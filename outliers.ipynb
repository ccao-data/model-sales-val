{
 "cells": [
  {
   "cell_type": "code",
   "execution_count": 1,
   "metadata": {},
   "outputs": [],
   "source": [
    "import pandas as pd\n",
    "import sklearn\n",
    "import numpy as np"
   ]
  },
  {
   "cell_type": "code",
   "execution_count": 2,
   "metadata": {},
   "outputs": [],
   "source": [
    "from sklearn.model_selection import train_test_split\n",
    "from sklearn.ensemble import IsolationForest\n",
    "from sklearn.ensemble import RandomForestClassifier\n",
    "from sklearn.neighbors import LocalOutlierFactor\n",
    "from sklearn.svm import OneClassSVM\n",
    "from sklearn import linear_model\n",
    "from sklearn.kernel_approximation import Nystroem"
   ]
  },
  {
   "cell_type": "markdown",
   "metadata": {},
   "source": [
    "## Method Testing"
   ]
  },
  {
   "cell_type": "code",
   "execution_count": 3,
   "metadata": {},
   "outputs": [
    {
     "name": "stderr",
     "output_type": "stream",
     "text": [
      "/tmp/ipykernel_1570085/1754691465.py:1: DtypeWarning: Columns (10) have mixed types. Specify dtype option on import or set low_memory=False.\n",
      "  sales = pd.read_csv('sales_mod.csv')\n"
     ]
    }
   ],
   "source": [
    "sales = pd.read_csv('sales_mod.csv')"
   ]
  },
  {
   "cell_type": "code",
   "execution_count": 4,
   "metadata": {},
   "outputs": [],
   "source": [
    "sales.drop(columns=['Unnamed: 0'], inplace=True)"
   ]
  },
  {
   "cell_type": "code",
   "execution_count": 5,
   "metadata": {},
   "outputs": [],
   "source": [
    "sales.set_index('sale_key', inplace=True)"
   ]
  },
  {
   "cell_type": "code",
   "execution_count": 6,
   "metadata": {},
   "outputs": [
    {
     "data": {
      "text/plain": [
       "Index(['township_code', 'class', 'pin', 'year', 'sale_date', 'sale_price',\n",
       "       'sale_price_log10', 'doc_no', 'deed_type', 'seller_name',\n",
       "       'is_multisale', 'num_parcels_sale', 'buyer_name', 'sale_type',\n",
       "       'sale_filter_lower_limit', 'sale_filter_upper_limit',\n",
       "       'sale_filter_count', 'property_advertised',\n",
       "       'is_installment_contract_fulfilled',\n",
       "       'is_sale_between_related_individuals_or_corporate_affiliates',\n",
       "       'is_transfer_of_less_than_100_percent_interest',\n",
       "       'is_court_ordered_sale', 'is_sale_in_lieu_of_foreclosure',\n",
       "       'is_condemnation', 'is_short_sale', 'is_bank_reo_real_estate_owned',\n",
       "       'is_auction_sale', 'is_seller_buyer_a_relocation_company',\n",
       "       'is_seller_buyer_a_financial_institution_or_government_agency',\n",
       "       'is_buyer_a_real_estate_investment_trust', 'is_buyer_a_pension_fund',\n",
       "       'is_buyer_an_adjacent_property_owner',\n",
       "       'is_buyer_exercising_an_option_to_purchase',\n",
       "       'is_simultaneous_trade_of_property', 'is_sale_leaseback',\n",
       "       'is_homestead_exemption', 'homestead_exemption_general_alternative',\n",
       "       'homestead_exemption_senior_citizens',\n",
       "       'homestead_exemption_senior_citizens_assessment_freeze',\n",
       "       'census_tract_geoid', 'lat', 'lon', 'sqft', 'year_built', 'card',\n",
       "       'price_per_sqft', 'price_per_sqft_log10', 'pct', 'township_avg_change',\n",
       "       'township_mean_sale_log10', 'diff_from_township_mean_sale_log10',\n",
       "       'class_mean_sale_log10', 'diff_from_class_mean_sale_log10',\n",
       "       'town_class_mean_sale_log10', 'diff_from_town_class_mean_sale_log10',\n",
       "       'days_since_last_transaction', 'counts', 'town_movement',\n",
       "       'class_movement', 'town_class_movement', 'sale_price_log10zscore',\n",
       "       'price_per_sqft_log10zscore', 'pctzscore', 'countszscore',\n",
       "       'days_since_last_transactionzscore', 'primary_outlier', 'outlier_value',\n",
       "       'outlier_value_std', 'outlier_std_lower', 'outlier_std_upper',\n",
       "       'outlier_description'],\n",
       "      dtype='object')"
      ]
     },
     "execution_count": 6,
     "metadata": {},
     "output_type": "execute_result"
    }
   ],
   "source": [
    "sales.columns"
   ]
  },
  {
   "cell_type": "code",
   "execution_count": 7,
   "metadata": {},
   "outputs": [],
   "source": [
    "feed_data = sales[['sale_price_log10zscore',\n",
    "       'price_per_sqft_log10zscore', 'pctzscore', 'countszscore',\n",
    "       'days_since_last_transactionzscore']]"
   ]
  },
  {
   "cell_type": "code",
   "execution_count": 8,
   "metadata": {},
   "outputs": [
    {
     "name": "stderr",
     "output_type": "stream",
     "text": [
      "/tmp/ipykernel_1570085/719415807.py:1: SettingWithCopyWarning: \n",
      "A value is trying to be set on a copy of a slice from a DataFrame\n",
      "\n",
      "See the caveats in the documentation: https://pandas.pydata.org/pandas-docs/stable/user_guide/indexing.html#returning-a-view-versus-a-copy\n",
      "  feed_data.fillna(0, inplace=True)\n"
     ]
    }
   ],
   "source": [
    "feed_data.fillna(0, inplace=True)"
   ]
  },
  {
   "cell_type": "markdown",
   "metadata": {},
   "source": [
    "## Isolation Forest"
   ]
  },
  {
   "cell_type": "code",
   "execution_count": 9,
   "metadata": {},
   "outputs": [],
   "source": [
    "isof = IsolationForest()\n",
    "prediction = isof.fit_predict(feed_data)"
   ]
  },
  {
   "cell_type": "code",
   "execution_count": 10,
   "metadata": {},
   "outputs": [
    {
     "data": {
      "text/plain": [
       "(array([-1,  1]), array([ 25741, 192398]))"
      ]
     },
     "execution_count": 10,
     "metadata": {},
     "output_type": "execute_result"
    }
   ],
   "source": [
    "# -1 is outlier and 1 is normal\n",
    "# Looking at human readable CSV, this looks to be about similar to (1,2) in terms of outlier detections just from raw numbers.\n",
    "np.unique(prediction, return_counts=True)"
   ]
  },
  {
   "cell_type": "markdown",
   "metadata": {},
   "source": [
    "## Logical Outlier Factor"
   ]
  },
  {
   "cell_type": "code",
   "execution_count": 11,
   "metadata": {},
   "outputs": [
    {
     "name": "stdout",
     "output_type": "stream",
     "text": [
      "1 nearest neighbors: (array([-1,  1]), array([ 50284, 167855]))\n",
      "2 nearest neighbors: (array([-1,  1]), array([ 36734, 181405]))\n",
      "3 nearest neighbors: (array([-1,  1]), array([ 25378, 192761]))\n",
      "4 nearest neighbors: (array([-1,  1]), array([ 17821, 200318]))\n",
      "5 nearest neighbors: (array([-1,  1]), array([ 12840, 205299]))\n",
      "10 nearest neighbors: (array([-1,  1]), array([  3669, 214470]))\n",
      "15 nearest neighbors: (array([-1,  1]), array([  2050, 216089]))\n",
      "20 nearest neighbors: (array([-1,  1]), array([  1795, 216344]))\n",
      "25 nearest neighbors: (array([-1,  1]), array([  1905, 216234]))\n",
      "30 nearest neighbors: (array([-1,  1]), array([  2075, 216064]))\n",
      "35 nearest neighbors: (array([-1,  1]), array([  2233, 215906]))\n",
      "40 nearest neighbors: (array([-1,  1]), array([  2382, 215757]))\n",
      "45 nearest neighbors: (array([-1,  1]), array([  2558, 215581]))\n",
      "50 nearest neighbors: (array([-1,  1]), array([  2710, 215429]))\n",
      "55 nearest neighbors: (array([-1,  1]), array([  2909, 215230]))\n",
      "60 nearest neighbors: (array([-1,  1]), array([  3063, 215076]))\n"
     ]
    }
   ],
   "source": [
    "# -1 is outlier and 1 is normal\n",
    "# Looking at human readable CSV, this looks to be about similar to (1,2) in terms of outlier detections just from raw numbers.\n",
    "for val in [1,2,3,4,5,10,15,20,25,30,35,40,45,50,55,60]:\n",
    "    lof = LocalOutlierFactor(n_neighbors = val)\n",
    "    prediction = lof.fit_predict(feed_data)\n",
    "    print(f'{val} nearest neighbors:', np.unique(prediction, return_counts=True))\n"
   ]
  },
  {
   "cell_type": "code",
   "execution_count": 12,
   "metadata": {},
   "outputs": [],
   "source": [
    "# Random Forest feature importance"
   ]
  },
  {
   "cell_type": "markdown",
   "metadata": {},
   "source": [
    "## SVM"
   ]
  },
  {
   "cell_type": "code",
   "execution_count": 20,
   "metadata": {},
   "outputs": [],
   "source": [
    "feature_map_nystroem = Nystroem(random_state=1,\n",
    "                                n_components=300)\n",
    "data_transformed = feature_map_nystroem.fit_transform(feed_data)"
   ]
  },
  {
   "cell_type": "code",
   "execution_count": 23,
   "metadata": {},
   "outputs": [
    {
     "name": "stdout",
     "output_type": "stream",
     "text": [
      "nu is 0.25 (array([-1,  1], dtype=int32), array([ 54368, 163771]))\n",
      "nu is 0.5 (array([-1,  1], dtype=int32), array([109216, 108923]))\n",
      "nu is 0.75 (array([-1,  1], dtype=int32), array([163539,  54600]))\n"
     ]
    }
   ],
   "source": [
    "for val in [.25,.5,.75]:\n",
    "    svm = linear_model.SGDOneClassSVM(nu=val)\n",
    "    prediction = svm.fit_predict(data_transformed)\n",
    "    print(f'nu is {val}', np.unique(prediction, return_counts=True))"
   ]
  },
  {
   "cell_type": "code",
   "execution_count": null,
   "metadata": {},
   "outputs": [],
   "source": []
  }
 ],
 "metadata": {
  "kernelspec": {
   "display_name": "Python 3.10.5 ('assessor')",
   "language": "python",
   "name": "python3"
  },
  "language_info": {
   "codemirror_mode": {
    "name": "ipython",
    "version": 3
   },
   "file_extension": ".py",
   "mimetype": "text/x-python",
   "name": "python",
   "nbconvert_exporter": "python",
   "pygments_lexer": "ipython3",
   "version": "3.10.5"
  },
  "orig_nbformat": 4,
  "vscode": {
   "interpreter": {
    "hash": "50350f6f05d6537db0d3267c2fc80282689776f58a3de8c6b995059eb34bd6dd"
   }
  }
 },
 "nbformat": 4,
 "nbformat_minor": 2
}
