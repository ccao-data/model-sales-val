{
 "cells": [
  {
   "cell_type": "code",
   "execution_count": 26,
   "metadata": {},
   "outputs": [],
   "source": [
    "import pandas as pd\n",
    "import sklearn\n",
    "import numpy as np"
   ]
  },
  {
   "cell_type": "code",
   "execution_count": 9,
   "metadata": {},
   "outputs": [],
   "source": [
    "from sklearn.ensemble import IsolationForest"
   ]
  },
  {
   "cell_type": "markdown",
   "metadata": {},
   "source": [
    "## Method Testing"
   ]
  },
  {
   "cell_type": "code",
   "execution_count": 16,
   "metadata": {},
   "outputs": [
    {
     "name": "stderr",
     "output_type": "stream",
     "text": [
      "/tmp/ipykernel_1086328/1754691465.py:1: DtypeWarning: Columns (10) have mixed types. Specify dtype option on import or set low_memory=False.\n",
      "  sales = pd.read_csv('sales_mod.csv')\n"
     ]
    }
   ],
   "source": [
    "sales = pd.read_csv('sales_mod.csv')"
   ]
  },
  {
   "cell_type": "code",
   "execution_count": null,
   "metadata": {},
   "outputs": [],
   "source": [
    "sales.drop(columns=['Unnamed: 0'], inplace=True)"
   ]
  },
  {
   "cell_type": "code",
   "execution_count": 20,
   "metadata": {},
   "outputs": [],
   "source": [
    "sales.set_index('pin', inplace=True)"
   ]
  },
  {
   "cell_type": "code",
   "execution_count": 18,
   "metadata": {},
   "outputs": [
    {
     "data": {
      "text/plain": [
       "Index(['township_code', 'class', 'pin', 'year', 'sale_date', 'sale_price',\n",
       "       'sale_price_log10', 'sale_key', 'doc_no', 'deed_type', 'seller_name',\n",
       "       'is_multisale', 'num_parcels_sale', 'buyer_name', 'sale_type',\n",
       "       'sale_filter_lower_limit', 'sale_filter_upper_limit',\n",
       "       'sale_filter_count', 'property_advertised',\n",
       "       'is_installment_contract_fulfilled',\n",
       "       'is_sale_between_related_individuals_or_corporate_affiliates',\n",
       "       'is_transfer_of_less_than_100_percent_interest',\n",
       "       'is_court_ordered_sale', 'is_sale_in_lieu_of_foreclosure',\n",
       "       'is_condemnation', 'is_short_sale', 'is_bank_reo_real_estate_owned',\n",
       "       'is_auction_sale', 'is_seller_buyer_a_relocation_company',\n",
       "       'is_seller_buyer_a_financial_institution_or_government_agency',\n",
       "       'is_buyer_a_real_estate_investment_trust', 'is_buyer_a_pension_fund',\n",
       "       'is_buyer_an_adjacent_property_owner',\n",
       "       'is_buyer_exercising_an_option_to_purchase',\n",
       "       'is_simultaneous_trade_of_property', 'is_sale_leaseback',\n",
       "       'is_homestead_exemption', 'homestead_exemption_general_alternative',\n",
       "       'homestead_exemption_senior_citizens',\n",
       "       'homestead_exemption_senior_citizens_assessment_freeze',\n",
       "       'census_tract_geoid', 'lat', 'lon', 'sqft', 'year_built', 'card',\n",
       "       'price_per_sqft', 'price_per_sqft_log10', 'pct', 'township_avg_change',\n",
       "       'township_mean_sale_log10', 'diff_from_township_mean_sale_log10',\n",
       "       'class_mean_sale_log10', 'diff_from_class_mean_sale_log10',\n",
       "       'town_class_mean_sale_log10', 'diff_from_town_class_mean_sale_log10',\n",
       "       'days_since_last_transaction', 'counts', 'town_movement',\n",
       "       'class_movement', 'town_class_movement'],\n",
       "      dtype='object')"
      ]
     },
     "execution_count": 18,
     "metadata": {},
     "output_type": "execute_result"
    }
   ],
   "source": [
    "sales.columns"
   ]
  },
  {
   "cell_type": "code",
   "execution_count": 19,
   "metadata": {},
   "outputs": [],
   "source": [
    "feed_data = sales[['sale_price_log10', 'price_per_sqft_log10', 'pct', 'days_since_last_transaction', 'counts', 'town_class_movement', ]]"
   ]
  },
  {
   "cell_type": "code",
   "execution_count": 22,
   "metadata": {},
   "outputs": [
    {
     "name": "stderr",
     "output_type": "stream",
     "text": [
      "/tmp/ipykernel_1086328/3240171540.py:1: SettingWithCopyWarning: \n",
      "A value is trying to be set on a copy of a slice from a DataFrame\n",
      "\n",
      "See the caveats in the documentation: https://pandas.pydata.org/pandas-docs/stable/user_guide/indexing.html#returning-a-view-versus-a-copy\n",
      "  feed_data.dropna(inplace=True)\n"
     ]
    }
   ],
   "source": [
    "feed_data.dropna(inplace=True)"
   ]
  },
  {
   "cell_type": "code",
   "execution_count": 23,
   "metadata": {},
   "outputs": [],
   "source": [
    "isof = IsolationForest()\n",
    "prediction = isof.fit_predict(feed_data)"
   ]
  },
  {
   "cell_type": "code",
   "execution_count": 28,
   "metadata": {},
   "outputs": [
    {
     "data": {
      "text/plain": [
       "(array([-1,  1]), array([ 5013, 21844]))"
      ]
     },
     "execution_count": 28,
     "metadata": {},
     "output_type": "execute_result"
    }
   ],
   "source": [
    "# -1 is outlier and 1 is normal\n",
    "# Looking at human readable CSV, this looks to be about similar to (2,2) in terms of outlier detections just from raw numbers \n",
    "np.unique(prediction, return_counts=True)"
   ]
  },
  {
   "cell_type": "code",
   "execution_count": null,
   "metadata": {},
   "outputs": [],
   "source": []
  }
 ],
 "metadata": {
  "kernelspec": {
   "display_name": "Python 3.10.5 ('assessor')",
   "language": "python",
   "name": "python3"
  },
  "language_info": {
   "codemirror_mode": {
    "name": "ipython",
    "version": 3
   },
   "file_extension": ".py",
   "mimetype": "text/x-python",
   "name": "python",
   "nbconvert_exporter": "python",
   "pygments_lexer": "ipython3",
   "version": "3.10.5"
  },
  "orig_nbformat": 4,
  "vscode": {
   "interpreter": {
    "hash": "50350f6f05d6537db0d3267c2fc80282689776f58a3de8c6b995059eb34bd6dd"
   }
  }
 },
 "nbformat": 4,
 "nbformat_minor": 2
}
