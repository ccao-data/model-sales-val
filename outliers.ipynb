{
 "cells": [
  {
   "cell_type": "code",
   "execution_count": 30,
   "metadata": {},
   "outputs": [],
   "source": [
    "import pandas as pd\n",
    "import sklearn\n",
    "import numpy as np"
   ]
  },
  {
   "cell_type": "code",
   "execution_count": 31,
   "metadata": {},
   "outputs": [],
   "source": [
    "from sklearn.ensemble import IsolationForest"
   ]
  },
  {
   "cell_type": "markdown",
   "metadata": {},
   "source": [
    "## Method Testing"
   ]
  },
  {
   "cell_type": "code",
   "execution_count": 32,
   "metadata": {},
   "outputs": [
    {
     "name": "stderr",
     "output_type": "stream",
     "text": [
      "/tmp/ipykernel_1086328/1754691465.py:1: DtypeWarning: Columns (10) have mixed types. Specify dtype option on import or set low_memory=False.\n",
      "  sales = pd.read_csv('sales_mod.csv')\n"
     ]
    }
   ],
   "source": [
    "sales = pd.read_csv('sales_mod.csv')"
   ]
  },
  {
   "cell_type": "code",
   "execution_count": 33,
   "metadata": {},
   "outputs": [],
   "source": [
    "sales.drop(columns=['Unnamed: 0'], inplace=True)"
   ]
  },
  {
   "cell_type": "code",
   "execution_count": 34,
   "metadata": {},
   "outputs": [],
   "source": [
    "sales.set_index('pin', inplace=True)"
   ]
  },
  {
   "cell_type": "code",
   "execution_count": 35,
   "metadata": {},
   "outputs": [
    {
     "data": {
      "text/plain": [
       "Index(['township_code', 'class', 'year', 'sale_date', 'sale_price',\n",
       "       'sale_price_log10', 'sale_key', 'doc_no', 'deed_type', 'seller_name',\n",
       "       'is_multisale', 'num_parcels_sale', 'buyer_name', 'sale_type',\n",
       "       'sale_filter_lower_limit', 'sale_filter_upper_limit',\n",
       "       'sale_filter_count', 'property_advertised',\n",
       "       'is_installment_contract_fulfilled',\n",
       "       'is_sale_between_related_individuals_or_corporate_affiliates',\n",
       "       'is_transfer_of_less_than_100_percent_interest',\n",
       "       'is_court_ordered_sale', 'is_sale_in_lieu_of_foreclosure',\n",
       "       'is_condemnation', 'is_short_sale', 'is_bank_reo_real_estate_owned',\n",
       "       'is_auction_sale', 'is_seller_buyer_a_relocation_company',\n",
       "       'is_seller_buyer_a_financial_institution_or_government_agency',\n",
       "       'is_buyer_a_real_estate_investment_trust', 'is_buyer_a_pension_fund',\n",
       "       'is_buyer_an_adjacent_property_owner',\n",
       "       'is_buyer_exercising_an_option_to_purchase',\n",
       "       'is_simultaneous_trade_of_property', 'is_sale_leaseback',\n",
       "       'is_homestead_exemption', 'homestead_exemption_general_alternative',\n",
       "       'homestead_exemption_senior_citizens',\n",
       "       'homestead_exemption_senior_citizens_assessment_freeze',\n",
       "       'census_tract_geoid', 'lat', 'lon', 'sqft', 'year_built', 'card',\n",
       "       'price_per_sqft', 'price_per_sqft_log10', 'pct', 'township_avg_change',\n",
       "       'township_mean_sale_log10', 'diff_from_township_mean_sale_log10',\n",
       "       'class_mean_sale_log10', 'diff_from_class_mean_sale_log10',\n",
       "       'town_class_mean_sale_log10', 'diff_from_town_class_mean_sale_log10',\n",
       "       'days_since_last_transaction', 'counts', 'town_movement',\n",
       "       'class_movement', 'town_class_movement'],\n",
       "      dtype='object')"
      ]
     },
     "execution_count": 35,
     "metadata": {},
     "output_type": "execute_result"
    }
   ],
   "source": [
    "sales.columns"
   ]
  },
  {
   "cell_type": "code",
   "execution_count": 36,
   "metadata": {},
   "outputs": [],
   "source": [
    "feed_data = sales[['sale_price_log10', 'price_per_sqft_log10', 'pct', 'days_since_last_transaction', 'counts', 'town_class_movement', ]]"
   ]
  },
  {
   "cell_type": "code",
   "execution_count": 37,
   "metadata": {},
   "outputs": [
    {
     "name": "stderr",
     "output_type": "stream",
     "text": [
      "/tmp/ipykernel_1086328/719415807.py:1: SettingWithCopyWarning: \n",
      "A value is trying to be set on a copy of a slice from a DataFrame\n",
      "\n",
      "See the caveats in the documentation: https://pandas.pydata.org/pandas-docs/stable/user_guide/indexing.html#returning-a-view-versus-a-copy\n",
      "  feed_data.fillna(0, inplace=True)\n"
     ]
    }
   ],
   "source": [
    "feed_data.fillna(0, inplace=True)"
   ]
  },
  {
   "cell_type": "code",
   "execution_count": 38,
   "metadata": {},
   "outputs": [
    {
     "data": {
      "text/html": [
       "<div>\n",
       "<style scoped>\n",
       "    .dataframe tbody tr th:only-of-type {\n",
       "        vertical-align: middle;\n",
       "    }\n",
       "\n",
       "    .dataframe tbody tr th {\n",
       "        vertical-align: top;\n",
       "    }\n",
       "\n",
       "    .dataframe thead th {\n",
       "        text-align: right;\n",
       "    }\n",
       "</style>\n",
       "<table border=\"1\" class=\"dataframe\">\n",
       "  <thead>\n",
       "    <tr style=\"text-align: right;\">\n",
       "      <th></th>\n",
       "      <th>sale_price_log10</th>\n",
       "      <th>price_per_sqft_log10</th>\n",
       "      <th>pct</th>\n",
       "      <th>days_since_last_transaction</th>\n",
       "      <th>counts</th>\n",
       "      <th>town_class_movement</th>\n",
       "    </tr>\n",
       "    <tr>\n",
       "      <th>pin</th>\n",
       "      <th></th>\n",
       "      <th></th>\n",
       "      <th></th>\n",
       "      <th></th>\n",
       "      <th></th>\n",
       "      <th></th>\n",
       "    </tr>\n",
       "  </thead>\n",
       "  <tbody>\n",
       "    <tr>\n",
       "      <th>2092050370000</th>\n",
       "      <td>5.303196</td>\n",
       "      <td>0.004592</td>\n",
       "      <td>0.0</td>\n",
       "      <td>0.0</td>\n",
       "      <td>0.0</td>\n",
       "      <td>0.0</td>\n",
       "    </tr>\n",
       "    <tr>\n",
       "      <th>20311070380000</th>\n",
       "      <td>5.332438</td>\n",
       "      <td>0.003377</td>\n",
       "      <td>0.0</td>\n",
       "      <td>0.0</td>\n",
       "      <td>0.0</td>\n",
       "      <td>0.0</td>\n",
       "    </tr>\n",
       "    <tr>\n",
       "      <th>10201120410000</th>\n",
       "      <td>5.732394</td>\n",
       "      <td>0.002541</td>\n",
       "      <td>0.0</td>\n",
       "      <td>0.0</td>\n",
       "      <td>0.0</td>\n",
       "      <td>0.0</td>\n",
       "    </tr>\n",
       "    <tr>\n",
       "      <th>16183030040000</th>\n",
       "      <td>5.774517</td>\n",
       "      <td>0.003231</td>\n",
       "      <td>0.0</td>\n",
       "      <td>0.0</td>\n",
       "      <td>0.0</td>\n",
       "      <td>0.0</td>\n",
       "    </tr>\n",
       "    <tr>\n",
       "      <th>10272320440000</th>\n",
       "      <td>5.454845</td>\n",
       "      <td>0.004095</td>\n",
       "      <td>0.0</td>\n",
       "      <td>0.0</td>\n",
       "      <td>0.0</td>\n",
       "      <td>0.0</td>\n",
       "    </tr>\n",
       "    <tr>\n",
       "      <th>...</th>\n",
       "      <td>...</td>\n",
       "      <td>...</td>\n",
       "      <td>...</td>\n",
       "      <td>...</td>\n",
       "      <td>...</td>\n",
       "      <td>...</td>\n",
       "    </tr>\n",
       "    <tr>\n",
       "      <th>3081110200000</th>\n",
       "      <td>5.742823</td>\n",
       "      <td>0.002749</td>\n",
       "      <td>0.0</td>\n",
       "      <td>0.0</td>\n",
       "      <td>0.0</td>\n",
       "      <td>0.0</td>\n",
       "    </tr>\n",
       "    <tr>\n",
       "      <th>25212060060000</th>\n",
       "      <td>4.785330</td>\n",
       "      <td>0.005213</td>\n",
       "      <td>0.0</td>\n",
       "      <td>0.0</td>\n",
       "      <td>0.0</td>\n",
       "      <td>0.0</td>\n",
       "    </tr>\n",
       "    <tr>\n",
       "      <th>7294030160000</th>\n",
       "      <td>5.342423</td>\n",
       "      <td>0.002293</td>\n",
       "      <td>0.0</td>\n",
       "      <td>0.0</td>\n",
       "      <td>0.0</td>\n",
       "      <td>0.0</td>\n",
       "    </tr>\n",
       "    <tr>\n",
       "      <th>13251310310000</th>\n",
       "      <td>5.795880</td>\n",
       "      <td>0.005259</td>\n",
       "      <td>0.0</td>\n",
       "      <td>0.0</td>\n",
       "      <td>0.0</td>\n",
       "      <td>0.0</td>\n",
       "    </tr>\n",
       "    <tr>\n",
       "      <th>3284060770000</th>\n",
       "      <td>5.426511</td>\n",
       "      <td>0.003001</td>\n",
       "      <td>0.0</td>\n",
       "      <td>0.0</td>\n",
       "      <td>0.0</td>\n",
       "      <td>0.0</td>\n",
       "    </tr>\n",
       "  </tbody>\n",
       "</table>\n",
       "<p>218139 rows × 6 columns</p>\n",
       "</div>"
      ],
      "text/plain": [
       "                sale_price_log10  price_per_sqft_log10  pct  \\\n",
       "pin                                                           \n",
       "2092050370000           5.303196              0.004592  0.0   \n",
       "20311070380000          5.332438              0.003377  0.0   \n",
       "10201120410000          5.732394              0.002541  0.0   \n",
       "16183030040000          5.774517              0.003231  0.0   \n",
       "10272320440000          5.454845              0.004095  0.0   \n",
       "...                          ...                   ...  ...   \n",
       "3081110200000           5.742823              0.002749  0.0   \n",
       "25212060060000          4.785330              0.005213  0.0   \n",
       "7294030160000           5.342423              0.002293  0.0   \n",
       "13251310310000          5.795880              0.005259  0.0   \n",
       "3284060770000           5.426511              0.003001  0.0   \n",
       "\n",
       "                days_since_last_transaction  counts  town_class_movement  \n",
       "pin                                                                       \n",
       "2092050370000                           0.0     0.0                  0.0  \n",
       "20311070380000                          0.0     0.0                  0.0  \n",
       "10201120410000                          0.0     0.0                  0.0  \n",
       "16183030040000                          0.0     0.0                  0.0  \n",
       "10272320440000                          0.0     0.0                  0.0  \n",
       "...                                     ...     ...                  ...  \n",
       "3081110200000                           0.0     0.0                  0.0  \n",
       "25212060060000                          0.0     0.0                  0.0  \n",
       "7294030160000                           0.0     0.0                  0.0  \n",
       "13251310310000                          0.0     0.0                  0.0  \n",
       "3284060770000                           0.0     0.0                  0.0  \n",
       "\n",
       "[218139 rows x 6 columns]"
      ]
     },
     "execution_count": 38,
     "metadata": {},
     "output_type": "execute_result"
    }
   ],
   "source": [
    "feed_data"
   ]
  },
  {
   "cell_type": "code",
   "execution_count": 39,
   "metadata": {},
   "outputs": [],
   "source": [
    "isof = IsolationForest()\n",
    "prediction = isof.fit_predict(feed_data)"
   ]
  },
  {
   "cell_type": "code",
   "execution_count": 40,
   "metadata": {},
   "outputs": [
    {
     "data": {
      "text/plain": [
       "(array([-1,  1]), array([ 33691, 184448]))"
      ]
     },
     "execution_count": 40,
     "metadata": {},
     "output_type": "execute_result"
    }
   ],
   "source": [
    "# -1 is outlier and 1 is normal\n",
    "# Looking at human readable CSV, this looks to be about similar to (1,2) in terms of outlier detections just from raw numbers.\n",
    "np.unique(prediction, return_counts=True)"
   ]
  },
  {
   "cell_type": "code",
   "execution_count": null,
   "metadata": {},
   "outputs": [],
   "source": []
  }
 ],
 "metadata": {
  "kernelspec": {
   "display_name": "Python 3.10.5 ('assessor')",
   "language": "python",
   "name": "python3"
  },
  "language_info": {
   "codemirror_mode": {
    "name": "ipython",
    "version": 3
   },
   "file_extension": ".py",
   "mimetype": "text/x-python",
   "name": "python",
   "nbconvert_exporter": "python",
   "pygments_lexer": "ipython3",
   "version": "3.10.5"
  },
  "orig_nbformat": 4,
  "vscode": {
   "interpreter": {
    "hash": "50350f6f05d6537db0d3267c2fc80282689776f58a3de8c6b995059eb34bd6dd"
   }
  }
 },
 "nbformat": 4,
 "nbformat_minor": 2
}
