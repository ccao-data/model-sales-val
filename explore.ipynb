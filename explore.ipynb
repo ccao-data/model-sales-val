{
 "cells": [
  {
   "cell_type": "code",
   "execution_count": 1,
   "metadata": {},
   "outputs": [],
   "source": [
    "import geopandas as gpd\n",
    "import pandas as pd\n",
    "import matplotlib.pyplot as plt\n",
    "import numpy as np"
   ]
  },
  {
   "cell_type": "markdown",
   "metadata": {},
   "source": [
    "# Data Cleaning"
   ]
  },
  {
   "cell_type": "code",
   "execution_count": 2,
   "metadata": {},
   "outputs": [],
   "source": [
    "sales = pd.read_parquet('sale_sample_18-21.parquet')\n",
    "township_codes = gpd.read_file('townships.geojson')\n",
    "char_sample = pd.read_csv('char_sample.csv', dtype={'class': str}) # also has 'EX' in column\n",
    "geo_info = pd.read_csv('parcels_geoinfo.csv')\n",
    "\n",
    "sales.year = sales.year.astype(int)\n",
    "sales.pin = sales.pin.astype(int)\n",
    "#sales.township = sales.township_code.astype(int)\n",
    "#townships.township = townships.township.astype(int)\n",
    "geo_info['class'] = geo_info['class'].astype(str)\n",
    "geo_info.drop(['year'], axis=1,  inplace=True)\n",
    "sales['class'] = sales['class'].astype(str)\n",
    "sales.township_code = sales.township_code.astype(int)\n",
    "sales = pd.merge(sales, geo_info, on=['pin', 'class'], how='outer')\n",
    "sales = pd.merge(sales, char_sample, on=['pin', 'year', 'class'])\n",
    "sales = sales[sales['is_multisale'] != 1]\n",
    "sales = sales[sales['num_parcels_sale'] == 1] # STOP GAP\n",
    "sales.rename(columns = {'township_code_x': 'township_code'}, inplace=True)\n"
   ]
  },
  {
   "cell_type": "markdown",
   "metadata": {},
   "source": [
    "# Variance - Outlier Detection"
   ]
  },
  {
   "cell_type": "markdown",
   "metadata": {},
   "source": [
    "Just check number of deivations away from mean grouped by township_code.\n",
    "\n",
    "Problems:\n",
    "\n",
    "Would like to vary by geography, but how to join new geographies to table to do that? What is value in common? With spatial dataset could see what PINS in what unit, but we have no lat/long for data.\n"
   ]
  },
  {
   "cell_type": "code",
   "execution_count": 3,
   "metadata": {},
   "outputs": [
    {
     "data": {
      "text/html": [
       "<div>\n",
       "<style scoped>\n",
       "    .dataframe tbody tr th:only-of-type {\n",
       "        vertical-align: middle;\n",
       "    }\n",
       "\n",
       "    .dataframe tbody tr th {\n",
       "        vertical-align: top;\n",
       "    }\n",
       "\n",
       "    .dataframe thead th {\n",
       "        text-align: right;\n",
       "    }\n",
       "</style>\n",
       "<table border=\"1\" class=\"dataframe\">\n",
       "  <thead>\n",
       "    <tr style=\"text-align: right;\">\n",
       "      <th></th>\n",
       "      <th>pin</th>\n",
       "      <th>year</th>\n",
       "      <th>township_code</th>\n",
       "      <th>class</th>\n",
       "      <th>sale_date</th>\n",
       "      <th>sale_price</th>\n",
       "      <th>sale_price_log10</th>\n",
       "      <th>sale_key</th>\n",
       "      <th>doc_no</th>\n",
       "      <th>deed_type</th>\n",
       "      <th>...</th>\n",
       "      <th>is_homestead_exemption</th>\n",
       "      <th>homestead_exemption_general_alternative</th>\n",
       "      <th>homestead_exemption_senior_citizens</th>\n",
       "      <th>homestead_exemption_senior_citizens_assessment_freeze</th>\n",
       "      <th>township_code_y</th>\n",
       "      <th>census_tract_geoid</th>\n",
       "      <th>lat</th>\n",
       "      <th>lon</th>\n",
       "      <th>sqft</th>\n",
       "      <th>year_built</th>\n",
       "    </tr>\n",
       "  </thead>\n",
       "  <tbody>\n",
       "    <tr>\n",
       "      <th>0</th>\n",
       "      <td>2092050370000</td>\n",
       "      <td>2019.0</td>\n",
       "      <td>29.0</td>\n",
       "      <td>295</td>\n",
       "      <td>2019-05-01 00:00:00+00:00</td>\n",
       "      <td>201000.0</td>\n",
       "      <td>5.303196</td>\n",
       "      <td>96812985.0</td>\n",
       "      <td>1915417094</td>\n",
       "      <td>01</td>\n",
       "      <td>...</td>\n",
       "      <td>0</td>\n",
       "      <td>0.0</td>\n",
       "      <td>0.0</td>\n",
       "      <td>0.0</td>\n",
       "      <td>29.0</td>\n",
       "      <td>NaN</td>\n",
       "      <td>NaN</td>\n",
       "      <td>NaN</td>\n",
       "      <td>1155.0</td>\n",
       "      <td>1985.0</td>\n",
       "    </tr>\n",
       "    <tr>\n",
       "      <th>2</th>\n",
       "      <td>10201120410000</td>\n",
       "      <td>2018.0</td>\n",
       "      <td>24.0</td>\n",
       "      <td>206</td>\n",
       "      <td>2018-07-01 00:00:00+00:00</td>\n",
       "      <td>540000.0</td>\n",
       "      <td>5.732394</td>\n",
       "      <td>97373057.0</td>\n",
       "      <td>1822817046</td>\n",
       "      <td>01</td>\n",
       "      <td>...</td>\n",
       "      <td>0</td>\n",
       "      <td>0.0</td>\n",
       "      <td>0.0</td>\n",
       "      <td>0.0</td>\n",
       "      <td>NaN</td>\n",
       "      <td>NaN</td>\n",
       "      <td>NaN</td>\n",
       "      <td>NaN</td>\n",
       "      <td>2256.0</td>\n",
       "      <td>1947.0</td>\n",
       "    </tr>\n",
       "    <tr>\n",
       "      <th>3</th>\n",
       "      <td>16183030040000</td>\n",
       "      <td>2022.0</td>\n",
       "      <td>27.0</td>\n",
       "      <td>203</td>\n",
       "      <td>2022-02-11 00:00:00+00:00</td>\n",
       "      <td>595000.0</td>\n",
       "      <td>5.774517</td>\n",
       "      <td>7321053.0</td>\n",
       "      <td>2206001050</td>\n",
       "      <td>01</td>\n",
       "      <td>...</td>\n",
       "      <td>None</td>\n",
       "      <td>NaN</td>\n",
       "      <td>NaN</td>\n",
       "      <td>NaN</td>\n",
       "      <td>NaN</td>\n",
       "      <td>NaN</td>\n",
       "      <td>NaN</td>\n",
       "      <td>NaN</td>\n",
       "      <td>1787.0</td>\n",
       "      <td>1918.0</td>\n",
       "    </tr>\n",
       "    <tr>\n",
       "      <th>4</th>\n",
       "      <td>10272320440000</td>\n",
       "      <td>2020.0</td>\n",
       "      <td>24.0</td>\n",
       "      <td>203</td>\n",
       "      <td>2020-04-01 00:00:00+00:00</td>\n",
       "      <td>285000.0</td>\n",
       "      <td>5.454845</td>\n",
       "      <td>96592558.0</td>\n",
       "      <td>2019607192</td>\n",
       "      <td>01</td>\n",
       "      <td>...</td>\n",
       "      <td>0</td>\n",
       "      <td>0.0</td>\n",
       "      <td>0.0</td>\n",
       "      <td>0.0</td>\n",
       "      <td>NaN</td>\n",
       "      <td>NaN</td>\n",
       "      <td>NaN</td>\n",
       "      <td>NaN</td>\n",
       "      <td>1332.0</td>\n",
       "      <td>1953.0</td>\n",
       "    </tr>\n",
       "    <tr>\n",
       "      <th>6</th>\n",
       "      <td>15011010390000</td>\n",
       "      <td>2020.0</td>\n",
       "      <td>33.0</td>\n",
       "      <td>234</td>\n",
       "      <td>2020-12-29 00:00:00+00:00</td>\n",
       "      <td>480000.0</td>\n",
       "      <td>5.681241</td>\n",
       "      <td>7127160.0</td>\n",
       "      <td>2102855154</td>\n",
       "      <td>01</td>\n",
       "      <td>...</td>\n",
       "      <td>0</td>\n",
       "      <td>0.0</td>\n",
       "      <td>0.0</td>\n",
       "      <td>0.0</td>\n",
       "      <td>NaN</td>\n",
       "      <td>NaN</td>\n",
       "      <td>NaN</td>\n",
       "      <td>NaN</td>\n",
       "      <td>2079.0</td>\n",
       "      <td>1888.0</td>\n",
       "    </tr>\n",
       "    <tr>\n",
       "      <th>...</th>\n",
       "      <td>...</td>\n",
       "      <td>...</td>\n",
       "      <td>...</td>\n",
       "      <td>...</td>\n",
       "      <td>...</td>\n",
       "      <td>...</td>\n",
       "      <td>...</td>\n",
       "      <td>...</td>\n",
       "      <td>...</td>\n",
       "      <td>...</td>\n",
       "      <td>...</td>\n",
       "      <td>...</td>\n",
       "      <td>...</td>\n",
       "      <td>...</td>\n",
       "      <td>...</td>\n",
       "      <td>...</td>\n",
       "      <td>...</td>\n",
       "      <td>...</td>\n",
       "      <td>...</td>\n",
       "      <td>...</td>\n",
       "      <td>...</td>\n",
       "    </tr>\n",
       "    <tr>\n",
       "      <th>360972</th>\n",
       "      <td>7294030160000</td>\n",
       "      <td>2021.0</td>\n",
       "      <td>35.0</td>\n",
       "      <td>278</td>\n",
       "      <td>2021-08-30 00:00:00+00:00</td>\n",
       "      <td>220000.0</td>\n",
       "      <td>5.342423</td>\n",
       "      <td>7249327.0</td>\n",
       "      <td>2126546039</td>\n",
       "      <td>01</td>\n",
       "      <td>...</td>\n",
       "      <td>0</td>\n",
       "      <td>0.0</td>\n",
       "      <td>0.0</td>\n",
       "      <td>0.0</td>\n",
       "      <td>35.0</td>\n",
       "      <td>1.703180e+10</td>\n",
       "      <td>42.010148</td>\n",
       "      <td>-88.116944</td>\n",
       "      <td>2330.0</td>\n",
       "      <td>1966.0</td>\n",
       "    </tr>\n",
       "    <tr>\n",
       "      <th>360973</th>\n",
       "      <td>7262000211004</td>\n",
       "      <td>2018.0</td>\n",
       "      <td>35.0</td>\n",
       "      <td>299</td>\n",
       "      <td>2018-04-01 00:00:00+00:00</td>\n",
       "      <td>173000.0</td>\n",
       "      <td>5.238046</td>\n",
       "      <td>97001692.0</td>\n",
       "      <td>1812729171</td>\n",
       "      <td>01</td>\n",
       "      <td>...</td>\n",
       "      <td>0</td>\n",
       "      <td>0.0</td>\n",
       "      <td>0.0</td>\n",
       "      <td>0.0</td>\n",
       "      <td>35.0</td>\n",
       "      <td>1.703180e+10</td>\n",
       "      <td>42.019659</td>\n",
       "      <td>-88.058596</td>\n",
       "      <td>1550.0</td>\n",
       "      <td>1989.0</td>\n",
       "    </tr>\n",
       "    <tr>\n",
       "      <th>360974</th>\n",
       "      <td>7243030171010</td>\n",
       "      <td>2018.0</td>\n",
       "      <td>35.0</td>\n",
       "      <td>299</td>\n",
       "      <td>2018-11-01 00:00:00+00:00</td>\n",
       "      <td>172000.0</td>\n",
       "      <td>5.235528</td>\n",
       "      <td>96594757.0</td>\n",
       "      <td>1831757035</td>\n",
       "      <td>02</td>\n",
       "      <td>...</td>\n",
       "      <td>0</td>\n",
       "      <td>0.0</td>\n",
       "      <td>0.0</td>\n",
       "      <td>0.0</td>\n",
       "      <td>35.0</td>\n",
       "      <td>1.703180e+10</td>\n",
       "      <td>42.022923</td>\n",
       "      <td>-88.042686</td>\n",
       "      <td>1500.0</td>\n",
       "      <td>1979.0</td>\n",
       "    </tr>\n",
       "    <tr>\n",
       "      <th>360975</th>\n",
       "      <td>13251310310000</td>\n",
       "      <td>2018.0</td>\n",
       "      <td>77.0</td>\n",
       "      <td>203</td>\n",
       "      <td>2018-05-01 00:00:00+00:00</td>\n",
       "      <td>625000.0</td>\n",
       "      <td>5.795880</td>\n",
       "      <td>96260041.0</td>\n",
       "      <td>1815912107</td>\n",
       "      <td>01</td>\n",
       "      <td>...</td>\n",
       "      <td>0</td>\n",
       "      <td>0.0</td>\n",
       "      <td>0.0</td>\n",
       "      <td>0.0</td>\n",
       "      <td>NaN</td>\n",
       "      <td>NaN</td>\n",
       "      <td>NaN</td>\n",
       "      <td>NaN</td>\n",
       "      <td>1102.0</td>\n",
       "      <td>1895.0</td>\n",
       "    </tr>\n",
       "    <tr>\n",
       "      <th>360976</th>\n",
       "      <td>3284060770000</td>\n",
       "      <td>2020.0</td>\n",
       "      <td>38.0</td>\n",
       "      <td>295</td>\n",
       "      <td>2020-11-30 00:00:00+00:00</td>\n",
       "      <td>267000.0</td>\n",
       "      <td>5.426511</td>\n",
       "      <td>7127684.0</td>\n",
       "      <td>2100617080</td>\n",
       "      <td>01</td>\n",
       "      <td>...</td>\n",
       "      <td>0</td>\n",
       "      <td>0.0</td>\n",
       "      <td>0.0</td>\n",
       "      <td>0.0</td>\n",
       "      <td>38.0</td>\n",
       "      <td>1.703180e+10</td>\n",
       "      <td>42.082888</td>\n",
       "      <td>-87.951184</td>\n",
       "      <td>1808.0</td>\n",
       "      <td>1965.0</td>\n",
       "    </tr>\n",
       "  </tbody>\n",
       "</table>\n",
       "<p>298903 rows × 46 columns</p>\n",
       "</div>"
      ],
      "text/plain": [
       "                   pin    year  township_code class                 sale_date  \\\n",
       "0        2092050370000  2019.0           29.0   295 2019-05-01 00:00:00+00:00   \n",
       "2       10201120410000  2018.0           24.0   206 2018-07-01 00:00:00+00:00   \n",
       "3       16183030040000  2022.0           27.0   203 2022-02-11 00:00:00+00:00   \n",
       "4       10272320440000  2020.0           24.0   203 2020-04-01 00:00:00+00:00   \n",
       "6       15011010390000  2020.0           33.0   234 2020-12-29 00:00:00+00:00   \n",
       "...                ...     ...            ...   ...                       ...   \n",
       "360972   7294030160000  2021.0           35.0   278 2021-08-30 00:00:00+00:00   \n",
       "360973   7262000211004  2018.0           35.0   299 2018-04-01 00:00:00+00:00   \n",
       "360974   7243030171010  2018.0           35.0   299 2018-11-01 00:00:00+00:00   \n",
       "360975  13251310310000  2018.0           77.0   203 2018-05-01 00:00:00+00:00   \n",
       "360976   3284060770000  2020.0           38.0   295 2020-11-30 00:00:00+00:00   \n",
       "\n",
       "        sale_price  sale_price_log10    sale_key      doc_no deed_type  ...  \\\n",
       "0         201000.0          5.303196  96812985.0  1915417094        01  ...   \n",
       "2         540000.0          5.732394  97373057.0  1822817046        01  ...   \n",
       "3         595000.0          5.774517   7321053.0  2206001050        01  ...   \n",
       "4         285000.0          5.454845  96592558.0  2019607192        01  ...   \n",
       "6         480000.0          5.681241   7127160.0  2102855154        01  ...   \n",
       "...            ...               ...         ...         ...       ...  ...   \n",
       "360972    220000.0          5.342423   7249327.0  2126546039        01  ...   \n",
       "360973    173000.0          5.238046  97001692.0  1812729171        01  ...   \n",
       "360974    172000.0          5.235528  96594757.0  1831757035        02  ...   \n",
       "360975    625000.0          5.795880  96260041.0  1815912107        01  ...   \n",
       "360976    267000.0          5.426511   7127684.0  2100617080        01  ...   \n",
       "\n",
       "       is_homestead_exemption homestead_exemption_general_alternative  \\\n",
       "0                           0                                     0.0   \n",
       "2                           0                                     0.0   \n",
       "3                        None                                     NaN   \n",
       "4                           0                                     0.0   \n",
       "6                           0                                     0.0   \n",
       "...                       ...                                     ...   \n",
       "360972                      0                                     0.0   \n",
       "360973                      0                                     0.0   \n",
       "360974                      0                                     0.0   \n",
       "360975                      0                                     0.0   \n",
       "360976                      0                                     0.0   \n",
       "\n",
       "        homestead_exemption_senior_citizens  \\\n",
       "0                                       0.0   \n",
       "2                                       0.0   \n",
       "3                                       NaN   \n",
       "4                                       0.0   \n",
       "6                                       0.0   \n",
       "...                                     ...   \n",
       "360972                                  0.0   \n",
       "360973                                  0.0   \n",
       "360974                                  0.0   \n",
       "360975                                  0.0   \n",
       "360976                                  0.0   \n",
       "\n",
       "       homestead_exemption_senior_citizens_assessment_freeze township_code_y  \\\n",
       "0                                                     0.0               29.0   \n",
       "2                                                     0.0                NaN   \n",
       "3                                                     NaN                NaN   \n",
       "4                                                     0.0                NaN   \n",
       "6                                                     0.0                NaN   \n",
       "...                                                   ...                ...   \n",
       "360972                                                0.0               35.0   \n",
       "360973                                                0.0               35.0   \n",
       "360974                                                0.0               35.0   \n",
       "360975                                                0.0                NaN   \n",
       "360976                                                0.0               38.0   \n",
       "\n",
       "        census_tract_geoid        lat        lon    sqft year_built  \n",
       "0                      NaN        NaN        NaN  1155.0     1985.0  \n",
       "2                      NaN        NaN        NaN  2256.0     1947.0  \n",
       "3                      NaN        NaN        NaN  1787.0     1918.0  \n",
       "4                      NaN        NaN        NaN  1332.0     1953.0  \n",
       "6                      NaN        NaN        NaN  2079.0     1888.0  \n",
       "...                    ...        ...        ...     ...        ...  \n",
       "360972        1.703180e+10  42.010148 -88.116944  2330.0     1966.0  \n",
       "360973        1.703180e+10  42.019659 -88.058596  1550.0     1989.0  \n",
       "360974        1.703180e+10  42.022923 -88.042686  1500.0     1979.0  \n",
       "360975                 NaN        NaN        NaN  1102.0     1895.0  \n",
       "360976        1.703180e+10  42.082888 -87.951184  1808.0     1965.0  \n",
       "\n",
       "[298903 rows x 46 columns]"
      ]
     },
     "execution_count": 3,
     "metadata": {},
     "output_type": "execute_result"
    }
   ],
   "source": [
    "sales"
   ]
  },
  {
   "cell_type": "code",
   "execution_count": 4,
   "metadata": {},
   "outputs": [],
   "source": [
    "def is_outlier_groupby(s: pd.Series, lower_lim : int, upper_lim: int) -> pd.DataFrame:\n",
    "    \"\"\"\n",
    "    Finds values outside of std deviation range.\n",
    "    Function meant for groupby() only.\n",
    "    \"\"\"\n",
    "    lower_limit = s.mean() - (s.std() * lower_lim)\n",
    "    upper_limit = s.mean() + (s.std() * upper_lim)\n",
    "    return ~s.between(lower_limit, upper_limit)\n",
    "\n",
    "\n",
    "def plot_std(df: pd.DataFrame, group: str, col: str, permuts: list) -> list:\n",
    "    fig, ax = plt.subplots(figsize=(15,10), ncols=2, nrows=len(permuts))\n",
    "    stats = []\n",
    "    outs = {}\n",
    "\n",
    "    for tup in range(len(permuts)):\n",
    "        std_outliers = df.dropna(subset=[group, col])[df.groupby([group, 'class'])[col].apply(is_outlier_groupby, permuts[tup][0], permuts[tup][1])]\n",
    "        no_std_outliers = df.dropna(subset=[group, col])[~df.groupby([group, 'class'])[col].apply(is_outlier_groupby, permuts[tup][0], permuts[tup][1])]\n",
    "        std_outliers[col].plot.hist(ax=ax[tup, 0] )\n",
    "        no_std_outliers[col].plot.hist(ax=ax[tup,1])\n",
    "        fig.suptitle('Outliers - No Outliers')\n",
    "\n",
    "        pct = len(std_outliers) / len(df.dropna(subset=[group, col]))\n",
    "        stat = (len(std_outliers), pct)\n",
    "        stats.append(stat)\n",
    "        outs[permuts[tup]] = std_outliers\n",
    "\n",
    "    print(stats)\n",
    "    return outs\n"
   ]
  },
  {
   "cell_type": "code",
   "execution_count": 5,
   "metadata": {},
   "outputs": [
    {
     "name": "stdout",
     "output_type": "stream",
     "text": [
      "[(227, 0.006217134092900964), (367, 0.010051489921121823), (423, 0.011585232252410167), (1165, 0.031907318141980716)]\n"
     ]
    },
    {
     "data": {
      "image/png": "[encoded data removed]",
      "text/plain": [
       "<Figure size 1080x720 with 8 Axes>"
      ]
     },
     "metadata": {
      "needs_background": "light"
     },
     "output_type": "display_data"
    }
   ],
   "source": [
    "std_permutations = [(4,4), (3,4), (3,3), (2,3)]\n",
    "census_sale_outs = plot_std(sales, 'census_tract_geoid', 'sale_price_log10', std_permutations)"
   ]
  },
  {
   "cell_type": "code",
   "execution_count": 6,
   "metadata": {},
   "outputs": [
    {
     "name": "stdout",
     "output_type": "stream",
     "text": [
      "[(912, 0.003051157064331907), (2534, 0.008477666667781856), (2895, 0.009685416339079902), (10410, 0.034827352017209594)]\n"
     ]
    },
    {
     "data": {
      "image/png": "[encoded data removed]",
      "text/plain": [
       "<Figure size 1080x720 with 8 Axes>"
      ]
     },
     "metadata": {
      "needs_background": "light"
     },
     "output_type": "display_data"
    }
   ],
   "source": [
    "town_sale_outs = plot_std(sales, 'township_code', 'sale_price_log10', std_permutations)"
   ]
  },
  {
   "cell_type": "markdown",
   "metadata": {},
   "source": [
    "### $ per sqft"
   ]
  },
  {
   "cell_type": "code",
   "execution_count": 7,
   "metadata": {},
   "outputs": [],
   "source": [
    "sales['price_per_sqft'] = sales['sale_price'] / sales['sqft']\n",
    "sales['price_per_sqft_log10'] = sales['sale_price_log10'] / sales['sqft']\n",
    "sales['price_per_sqft'].replace([np.inf, -np.inf], np.nan, inplace=True)\n",
    "sales['price_per_sqft_log10'].replace([np.inf, -np.inf], np.nan, inplace=True)"
   ]
  },
  {
   "cell_type": "code",
   "execution_count": 8,
   "metadata": {},
   "outputs": [
    {
     "name": "stderr",
     "output_type": "stream",
     "text": [
      "/tmp/ipykernel_698244/2132625190.py:17: UserWarning: Boolean Series key will be reindexed to match DataFrame index.\n",
      "  std_outliers = df.dropna(subset=[group, col])[df.groupby([group, 'class'])[col].apply(is_outlier_groupby, permuts[tup][0], permuts[tup][1])]\n",
      "/tmp/ipykernel_698244/2132625190.py:18: UserWarning: Boolean Series key will be reindexed to match DataFrame index.\n",
      "  no_std_outliers = df.dropna(subset=[group, col])[~df.groupby([group, 'class'])[col].apply(is_outlier_groupby, permuts[tup][0], permuts[tup][1])]\n",
      "/tmp/ipykernel_698244/2132625190.py:17: UserWarning: Boolean Series key will be reindexed to match DataFrame index.\n",
      "  std_outliers = df.dropna(subset=[group, col])[df.groupby([group, 'class'])[col].apply(is_outlier_groupby, permuts[tup][0], permuts[tup][1])]\n",
      "/tmp/ipykernel_698244/2132625190.py:18: UserWarning: Boolean Series key will be reindexed to match DataFrame index.\n",
      "  no_std_outliers = df.dropna(subset=[group, col])[~df.groupby([group, 'class'])[col].apply(is_outlier_groupby, permuts[tup][0], permuts[tup][1])]\n",
      "/tmp/ipykernel_698244/2132625190.py:17: UserWarning: Boolean Series key will be reindexed to match DataFrame index.\n",
      "  std_outliers = df.dropna(subset=[group, col])[df.groupby([group, 'class'])[col].apply(is_outlier_groupby, permuts[tup][0], permuts[tup][1])]\n",
      "/tmp/ipykernel_698244/2132625190.py:18: UserWarning: Boolean Series key will be reindexed to match DataFrame index.\n",
      "  no_std_outliers = df.dropna(subset=[group, col])[~df.groupby([group, 'class'])[col].apply(is_outlier_groupby, permuts[tup][0], permuts[tup][1])]\n",
      "/tmp/ipykernel_698244/2132625190.py:17: UserWarning: Boolean Series key will be reindexed to match DataFrame index.\n",
      "  std_outliers = df.dropna(subset=[group, col])[df.groupby([group, 'class'])[col].apply(is_outlier_groupby, permuts[tup][0], permuts[tup][1])]\n",
      "/tmp/ipykernel_698244/2132625190.py:18: UserWarning: Boolean Series key will be reindexed to match DataFrame index.\n",
      "  no_std_outliers = df.dropna(subset=[group, col])[~df.groupby([group, 'class'])[col].apply(is_outlier_groupby, permuts[tup][0], permuts[tup][1])]\n"
     ]
    },
    {
     "name": "stdout",
     "output_type": "stream",
     "text": [
      "[(384, 0.0017345426950457123), (541, 0.0024437177031763815), (1288, 0.005817945289632494), (3749, 0.016934376468037436)]\n"
     ]
    },
    {
     "data": {
      "image/png": "[encoded data removed]",
      "text/plain": [
       "<Figure size 1080x720 with 8 Axes>"
      ]
     },
     "metadata": {
      "needs_background": "light"
     },
     "output_type": "display_data"
    }
   ],
   "source": [
    "town_sqft_outs = plot_std(sales, 'township_code', 'price_per_sqft_log10', std_permutations)"
   ]
  },
  {
   "cell_type": "code",
   "execution_count": 9,
   "metadata": {},
   "outputs": [
    {
     "name": "stderr",
     "output_type": "stream",
     "text": [
      "/tmp/ipykernel_698244/2132625190.py:17: UserWarning: Boolean Series key will be reindexed to match DataFrame index.\n",
      "  std_outliers = df.dropna(subset=[group, col])[df.groupby([group, 'class'])[col].apply(is_outlier_groupby, permuts[tup][0], permuts[tup][1])]\n",
      "/tmp/ipykernel_698244/2132625190.py:18: UserWarning: Boolean Series key will be reindexed to match DataFrame index.\n",
      "  no_std_outliers = df.dropna(subset=[group, col])[~df.groupby([group, 'class'])[col].apply(is_outlier_groupby, permuts[tup][0], permuts[tup][1])]\n",
      "/tmp/ipykernel_698244/2132625190.py:17: UserWarning: Boolean Series key will be reindexed to match DataFrame index.\n",
      "  std_outliers = df.dropna(subset=[group, col])[df.groupby([group, 'class'])[col].apply(is_outlier_groupby, permuts[tup][0], permuts[tup][1])]\n",
      "/tmp/ipykernel_698244/2132625190.py:18: UserWarning: Boolean Series key will be reindexed to match DataFrame index.\n",
      "  no_std_outliers = df.dropna(subset=[group, col])[~df.groupby([group, 'class'])[col].apply(is_outlier_groupby, permuts[tup][0], permuts[tup][1])]\n",
      "/tmp/ipykernel_698244/2132625190.py:17: UserWarning: Boolean Series key will be reindexed to match DataFrame index.\n",
      "  std_outliers = df.dropna(subset=[group, col])[df.groupby([group, 'class'])[col].apply(is_outlier_groupby, permuts[tup][0], permuts[tup][1])]\n",
      "/tmp/ipykernel_698244/2132625190.py:18: UserWarning: Boolean Series key will be reindexed to match DataFrame index.\n",
      "  no_std_outliers = df.dropna(subset=[group, col])[~df.groupby([group, 'class'])[col].apply(is_outlier_groupby, permuts[tup][0], permuts[tup][1])]\n",
      "/tmp/ipykernel_698244/2132625190.py:17: UserWarning: Boolean Series key will be reindexed to match DataFrame index.\n",
      "  std_outliers = df.dropna(subset=[group, col])[df.groupby([group, 'class'])[col].apply(is_outlier_groupby, permuts[tup][0], permuts[tup][1])]\n",
      "/tmp/ipykernel_698244/2132625190.py:18: UserWarning: Boolean Series key will be reindexed to match DataFrame index.\n",
      "  no_std_outliers = df.dropna(subset=[group, col])[~df.groupby([group, 'class'])[col].apply(is_outlier_groupby, permuts[tup][0], permuts[tup][1])]\n"
     ]
    },
    {
     "name": "stdout",
     "output_type": "stream",
     "text": [
      "[(179, 0.0052395866873518136), (195, 0.0057079296314726455), (270, 0.007903287182039049), (643, 0.018821532066855957)]\n"
     ]
    },
    {
     "data": {
      "image/png": "[encoded data removed]",
      "text/plain": [
       "<Figure size 1080x720 with 8 Axes>"
      ]
     },
     "metadata": {
      "needs_background": "light"
     },
     "output_type": "display_data"
    }
   ],
   "source": [
    "census_sqft_outs = plot_std(sales, 'census_tract_geoid', 'price_per_sqft_log10', std_permutations)"
   ]
  },
  {
   "cell_type": "code",
   "execution_count": 10,
   "metadata": {},
   "outputs": [
    {
     "name": "stdout",
     "output_type": "stream",
     "text": [
      "[(912, 0.003051157064331907), (2534, 0.008477666667781856), (2895, 0.009685416339079902), (10410, 0.034827352017209594)]\n"
     ]
    },
    {
     "data": {
      "image/png": "[encoded data removed]",
      "text/plain": [
       "<Figure size 1080x720 with 8 Axes>"
      ]
     },
     "metadata": {
      "needs_background": "light"
     },
     "output_type": "display_data"
    }
   ],
   "source": [
    "class_outs = plot_std(sales, 'township_code', 'sale_price_log10', std_permutations)"
   ]
  },
  {
   "cell_type": "code",
   "execution_count": 11,
   "metadata": {},
   "outputs": [
    {
     "name": "stderr",
     "output_type": "stream",
     "text": [
      "/tmp/ipykernel_698244/2132625190.py:17: UserWarning: Boolean Series key will be reindexed to match DataFrame index.\n",
      "  std_outliers = df.dropna(subset=[group, col])[df.groupby([group, 'class'])[col].apply(is_outlier_groupby, permuts[tup][0], permuts[tup][1])]\n",
      "/tmp/ipykernel_698244/2132625190.py:18: UserWarning: Boolean Series key will be reindexed to match DataFrame index.\n",
      "  no_std_outliers = df.dropna(subset=[group, col])[~df.groupby([group, 'class'])[col].apply(is_outlier_groupby, permuts[tup][0], permuts[tup][1])]\n",
      "/tmp/ipykernel_698244/2132625190.py:17: UserWarning: Boolean Series key will be reindexed to match DataFrame index.\n",
      "  std_outliers = df.dropna(subset=[group, col])[df.groupby([group, 'class'])[col].apply(is_outlier_groupby, permuts[tup][0], permuts[tup][1])]\n",
      "/tmp/ipykernel_698244/2132625190.py:18: UserWarning: Boolean Series key will be reindexed to match DataFrame index.\n",
      "  no_std_outliers = df.dropna(subset=[group, col])[~df.groupby([group, 'class'])[col].apply(is_outlier_groupby, permuts[tup][0], permuts[tup][1])]\n",
      "/tmp/ipykernel_698244/2132625190.py:17: UserWarning: Boolean Series key will be reindexed to match DataFrame index.\n",
      "  std_outliers = df.dropna(subset=[group, col])[df.groupby([group, 'class'])[col].apply(is_outlier_groupby, permuts[tup][0], permuts[tup][1])]\n",
      "/tmp/ipykernel_698244/2132625190.py:18: UserWarning: Boolean Series key will be reindexed to match DataFrame index.\n",
      "  no_std_outliers = df.dropna(subset=[group, col])[~df.groupby([group, 'class'])[col].apply(is_outlier_groupby, permuts[tup][0], permuts[tup][1])]\n",
      "/tmp/ipykernel_698244/2132625190.py:17: UserWarning: Boolean Series key will be reindexed to match DataFrame index.\n",
      "  std_outliers = df.dropna(subset=[group, col])[df.groupby([group, 'class'])[col].apply(is_outlier_groupby, permuts[tup][0], permuts[tup][1])]\n",
      "/tmp/ipykernel_698244/2132625190.py:18: UserWarning: Boolean Series key will be reindexed to match DataFrame index.\n",
      "  no_std_outliers = df.dropna(subset=[group, col])[~df.groupby([group, 'class'])[col].apply(is_outlier_groupby, permuts[tup][0], permuts[tup][1])]\n"
     ]
    },
    {
     "name": "stdout",
     "output_type": "stream",
     "text": [
      "[(365, 0.0016487189679470964), (467, 0.0021094568713186136), (1136, 0.005131355472843566), (3111, 0.01405250605283128)]\n"
     ]
    },
    {
     "data": {
      "image/png": "[encoded data removed]",
      "text/plain": [
       "<Figure size 1080x720 with 8 Axes>"
      ]
     },
     "metadata": {
      "needs_background": "light"
     },
     "output_type": "display_data"
    }
   ],
   "source": [
    "class_outs_sqft = plot_std(sales, 'class', 'price_per_sqft_log10', std_permutations)"
   ]
  },
  {
   "cell_type": "markdown",
   "metadata": {},
   "source": [
    "#### Overlaps"
   ]
  },
  {
   "cell_type": "code",
   "execution_count": 12,
   "metadata": {},
   "outputs": [
    {
     "name": "stdout",
     "output_type": "stream",
     "text": [
      "(4, 4) 912 227 33\n",
      "(3, 4) 2534 367 113\n",
      "(3, 3) 2895 423 138\n",
      "(2, 3) 10410 1165 541\n"
     ]
    }
   ],
   "source": [
    "# Between Township and Census for price\n",
    "for tup in std_permutations:\n",
    "    print(tup, len(town_sale_outs[tup]), len(census_sale_outs[tup]), len(pd.merge(town_sale_outs[tup], census_sale_outs[tup])))\n",
    "# limits, length of first DF, length of 2nd DF, length of overlap"
   ]
  },
  {
   "cell_type": "code",
   "execution_count": 13,
   "metadata": {},
   "outputs": [
    {
     "name": "stdout",
     "output_type": "stream",
     "text": [
      "(4, 4) 384 179 5\n",
      "(3, 4) 541 195 7\n",
      "(3, 3) 1288 270 36\n",
      "(2, 3) 3749 643 133\n"
     ]
    }
   ],
   "source": [
    "# Between Township and Census for SQFT\n",
    "for tup in std_permutations:\n",
    "    print(tup, len(town_sqft_outs[tup]), len(census_sqft_outs[tup]), len(pd.merge(town_sqft_outs[tup], census_sqft_outs[tup])))\n",
    "# limits, length of first DF, length of 2nd DF, length of overlap"
   ]
  },
  {
   "cell_type": "code",
   "execution_count": 14,
   "metadata": {},
   "outputs": [
    {
     "name": "stdout",
     "output_type": "stream",
     "text": [
      "(4, 4) 912 384 20\n",
      "(3, 4) 2534 541 45\n",
      "(3, 3) 2895 1288 82\n",
      "(2, 3) 10410 3749 507\n"
     ]
    }
   ],
   "source": [
    "# Within township for price and price/sqft\n",
    "for tup in std_permutations:\n",
    "    print(tup, len(town_sale_outs[tup]), len(town_sqft_outs[tup]), len(pd.merge(town_sale_outs[tup], town_sqft_outs[tup])))\n",
    "# limits, length of first DF, length of 2nd DF, length of overlap"
   ]
  },
  {
   "cell_type": "code",
   "execution_count": 15,
   "metadata": {},
   "outputs": [
    {
     "name": "stdout",
     "output_type": "stream",
     "text": [
      "(4, 4) 227 179 160\n",
      "(3, 4) 367 195 167\n",
      "(3, 3) 423 270 183\n",
      "(2, 3) 1165 643 229\n"
     ]
    }
   ],
   "source": [
    "# Within census for price and price/sqft\n",
    "for tup in std_permutations:\n",
    "    print(tup, len(census_sale_outs[tup]), len(census_sqft_outs[tup]), len(pd.merge(census_sale_outs[tup], census_sqft_outs[tup])))\n",
    "# limits, length of first DF, length of 2nd DF, length of overlap"
   ]
  },
  {
   "cell_type": "markdown",
   "metadata": {},
   "source": [
    "# Sale Volatility\n",
    "\n",
    "Create buckets of which properties fall into which growth rates. Look at absolute value change, see if departing from value of area or moving towards.\n",
    "See what portion of data illustrates particular outlier flag, and which ones illustrate several outlier flags."
   ]
  },
  {
   "cell_type": "code",
   "execution_count": 50,
   "metadata": {},
   "outputs": [],
   "source": [
    "sales['pct'] = sales.sort_values('sale_date').groupby('pin')['sale_price'].pct_change()\n",
    "township_avg_change = sales.groupby(['township_code'])['pct'].mean()\n",
    "township_mean = sales.groupby(['township_code'])['sale_price_log10'].mean()\n",
    "class_mean = sales.groupby(['class'])['sale_price_log10'].mean()\n",
    "\n",
    "\n",
    "sales.set_index('township_code', inplace=True)\n",
    "sales['township_avg_change'] = township_avg_change\n",
    "sales['township_mean_sale_log10'] = township_mean\n",
    "sales['diff_from_township_mean_sale_log10'] = abs(sales['township_mean_sale_log10'] - sales['sale_price_log10'])\n",
    "sales.reset_index(inplace=True)\n",
    "\n",
    "sales.set_index('class', inplace=True)\n",
    "sales['class_mean_sale_log10'] = class_mean\n",
    "sales['diff_from_class_mean_sale_log10'] = abs(sales['class_mean_sale_log10'] - sales['sale_price_log10'])\n",
    "sales.reset_index(inplace=True)"
   ]
  },
  {
   "cell_type": "code",
   "execution_count": 51,
   "metadata": {},
   "outputs": [
    {
     "data": {
      "text/plain": [
       "<AxesSubplot:xlabel='township_mean_sale_log10', ylabel='township_avg_change'>"
      ]
     },
     "execution_count": 51,
     "metadata": {},
     "output_type": "execute_result"
    },
    {
     "data": {
      "image/png": "[encoded data removed]",
      "text/plain": [
       "<Figure size 432x288 with 1 Axes>"
      ]
     },
     "metadata": {
      "needs_background": "light"
     },
     "output_type": "display_data"
    }
   ],
   "source": [
    "sales.plot.scatter(x='township_mean_sale_log10', y='township_avg_change')"
   ]
  },
  {
   "cell_type": "code",
   "execution_count": 52,
   "metadata": {},
   "outputs": [
    {
     "data": {
      "text/html": [
       "<div>\n",
       "<style scoped>\n",
       "    .dataframe tbody tr th:only-of-type {\n",
       "        vertical-align: middle;\n",
       "    }\n",
       "\n",
       "    .dataframe tbody tr th {\n",
       "        vertical-align: top;\n",
       "    }\n",
       "\n",
       "    .dataframe thead th {\n",
       "        text-align: right;\n",
       "    }\n",
       "</style>\n",
       "<table border=\"1\" class=\"dataframe\">\n",
       "  <thead>\n",
       "    <tr style=\"text-align: right;\">\n",
       "      <th></th>\n",
       "      <th>class</th>\n",
       "      <th>township_code</th>\n",
       "      <th>pin</th>\n",
       "      <th>year</th>\n",
       "      <th>sale_date</th>\n",
       "      <th>sale_price</th>\n",
       "      <th>sale_price_log10</th>\n",
       "      <th>sale_key</th>\n",
       "      <th>doc_no</th>\n",
       "      <th>deed_type</th>\n",
       "      <th>...</th>\n",
       "      <th>year_built</th>\n",
       "      <th>price_per_sqft</th>\n",
       "      <th>price_per_sqft_log10</th>\n",
       "      <th>pct</th>\n",
       "      <th>township_avg_change</th>\n",
       "      <th>township_mean_sale_log10</th>\n",
       "      <th>diff_from_township_mean_sale_log10</th>\n",
       "      <th>class_mean_sale_log10</th>\n",
       "      <th>diff_from_class_mean_sale_log10</th>\n",
       "      <th>days_since_last_transaction</th>\n",
       "    </tr>\n",
       "  </thead>\n",
       "  <tbody>\n",
       "    <tr>\n",
       "      <th>9</th>\n",
       "      <td>211</td>\n",
       "      <td>76.0</td>\n",
       "      <td>16364000080000</td>\n",
       "      <td>2018.0</td>\n",
       "      <td>2018-10-01 00:00:00+00:00</td>\n",
       "      <td>118000.0</td>\n",
       "      <td>5.071882</td>\n",
       "      <td>97299586.0</td>\n",
       "      <td>1831319495</td>\n",
       "      <td>01</td>\n",
       "      <td>...</td>\n",
       "      <td>1888.0</td>\n",
       "      <td>87.797619</td>\n",
       "      <td>0.003774</td>\n",
       "      <td>NaN</td>\n",
       "      <td>0.460942</td>\n",
       "      <td>5.388322</td>\n",
       "      <td>0.316440</td>\n",
       "      <td>5.441753</td>\n",
       "      <td>0.369871</td>\n",
       "      <td>NaN</td>\n",
       "    </tr>\n",
       "    <tr>\n",
       "      <th>30</th>\n",
       "      <td>211</td>\n",
       "      <td>76.0</td>\n",
       "      <td>17294270430000</td>\n",
       "      <td>2018.0</td>\n",
       "      <td>2018-02-01 00:00:00+00:00</td>\n",
       "      <td>236000.0</td>\n",
       "      <td>5.372912</td>\n",
       "      <td>97298082.0</td>\n",
       "      <td>1805841021</td>\n",
       "      <td>01</td>\n",
       "      <td>...</td>\n",
       "      <td>1894.0</td>\n",
       "      <td>192.810458</td>\n",
       "      <td>0.004390</td>\n",
       "      <td>0.0</td>\n",
       "      <td>0.460942</td>\n",
       "      <td>5.388322</td>\n",
       "      <td>0.015410</td>\n",
       "      <td>5.441753</td>\n",
       "      <td>0.068841</td>\n",
       "      <td>0.0</td>\n",
       "    </tr>\n",
       "    <tr>\n",
       "      <th>31</th>\n",
       "      <td>211</td>\n",
       "      <td>76.0</td>\n",
       "      <td>17294270430000</td>\n",
       "      <td>2018.0</td>\n",
       "      <td>2018-02-01 00:00:00+00:00</td>\n",
       "      <td>236000.0</td>\n",
       "      <td>5.372912</td>\n",
       "      <td>97298082.0</td>\n",
       "      <td>1805841021</td>\n",
       "      <td>01</td>\n",
       "      <td>...</td>\n",
       "      <td>1864.0</td>\n",
       "      <td>168.571429</td>\n",
       "      <td>0.003838</td>\n",
       "      <td>NaN</td>\n",
       "      <td>0.460942</td>\n",
       "      <td>5.388322</td>\n",
       "      <td>0.015410</td>\n",
       "      <td>5.441753</td>\n",
       "      <td>0.068841</td>\n",
       "      <td>NaN</td>\n",
       "    </tr>\n",
       "    <tr>\n",
       "      <th>78</th>\n",
       "      <td>203</td>\n",
       "      <td>76.0</td>\n",
       "      <td>17314180080000</td>\n",
       "      <td>2018.0</td>\n",
       "      <td>2018-07-01 00:00:00+00:00</td>\n",
       "      <td>265000.0</td>\n",
       "      <td>5.423246</td>\n",
       "      <td>96705202.0</td>\n",
       "      <td>1820718048</td>\n",
       "      <td>01</td>\n",
       "      <td>...</td>\n",
       "      <td>1888.0</td>\n",
       "      <td>168.253968</td>\n",
       "      <td>0.003443</td>\n",
       "      <td>NaN</td>\n",
       "      <td>0.460942</td>\n",
       "      <td>5.388322</td>\n",
       "      <td>0.034924</td>\n",
       "      <td>5.303952</td>\n",
       "      <td>0.119294</td>\n",
       "      <td>NaN</td>\n",
       "    </tr>\n",
       "    <tr>\n",
       "      <th>117</th>\n",
       "      <td>203</td>\n",
       "      <td>76.0</td>\n",
       "      <td>17283180210000</td>\n",
       "      <td>2018.0</td>\n",
       "      <td>2018-08-01 00:00:00+00:00</td>\n",
       "      <td>385000.0</td>\n",
       "      <td>5.585461</td>\n",
       "      <td>97114308.0</td>\n",
       "      <td>1823612060</td>\n",
       "      <td>01</td>\n",
       "      <td>...</td>\n",
       "      <td>1983.0</td>\n",
       "      <td>324.894515</td>\n",
       "      <td>0.004713</td>\n",
       "      <td>NaN</td>\n",
       "      <td>0.460942</td>\n",
       "      <td>5.388322</td>\n",
       "      <td>0.197139</td>\n",
       "      <td>5.303952</td>\n",
       "      <td>0.281508</td>\n",
       "      <td>NaN</td>\n",
       "    </tr>\n",
       "    <tr>\n",
       "      <th>...</th>\n",
       "      <td>...</td>\n",
       "      <td>...</td>\n",
       "      <td>...</td>\n",
       "      <td>...</td>\n",
       "      <td>...</td>\n",
       "      <td>...</td>\n",
       "      <td>...</td>\n",
       "      <td>...</td>\n",
       "      <td>...</td>\n",
       "      <td>...</td>\n",
       "      <td>...</td>\n",
       "      <td>...</td>\n",
       "      <td>...</td>\n",
       "      <td>...</td>\n",
       "      <td>...</td>\n",
       "      <td>...</td>\n",
       "      <td>...</td>\n",
       "      <td>...</td>\n",
       "      <td>...</td>\n",
       "      <td>...</td>\n",
       "      <td>...</td>\n",
       "    </tr>\n",
       "    <tr>\n",
       "      <th>298455</th>\n",
       "      <td>299</td>\n",
       "      <td>76.0</td>\n",
       "      <td>17221050501188</td>\n",
       "      <td>2019.0</td>\n",
       "      <td>2019-07-01 00:00:00+00:00</td>\n",
       "      <td>335000.0</td>\n",
       "      <td>5.525045</td>\n",
       "      <td>96591125.0</td>\n",
       "      <td>1919857086</td>\n",
       "      <td>01</td>\n",
       "      <td>...</td>\n",
       "      <td>2008.0</td>\n",
       "      <td>NaN</td>\n",
       "      <td>NaN</td>\n",
       "      <td>NaN</td>\n",
       "      <td>0.460942</td>\n",
       "      <td>5.388322</td>\n",
       "      <td>0.136723</td>\n",
       "      <td>5.317660</td>\n",
       "      <td>0.207385</td>\n",
       "      <td>NaN</td>\n",
       "    </tr>\n",
       "    <tr>\n",
       "      <th>298460</th>\n",
       "      <td>299</td>\n",
       "      <td>76.0</td>\n",
       "      <td>17103160331045</td>\n",
       "      <td>2019.0</td>\n",
       "      <td>2019-11-01 00:00:00+00:00</td>\n",
       "      <td>242500.0</td>\n",
       "      <td>5.384712</td>\n",
       "      <td>97481747.0</td>\n",
       "      <td>1932508202</td>\n",
       "      <td>01</td>\n",
       "      <td>...</td>\n",
       "      <td>2001.0</td>\n",
       "      <td>NaN</td>\n",
       "      <td>NaN</td>\n",
       "      <td>NaN</td>\n",
       "      <td>0.460942</td>\n",
       "      <td>5.388322</td>\n",
       "      <td>0.003610</td>\n",
       "      <td>5.317660</td>\n",
       "      <td>0.067052</td>\n",
       "      <td>NaN</td>\n",
       "    </tr>\n",
       "    <tr>\n",
       "      <th>298730</th>\n",
       "      <td>203</td>\n",
       "      <td>76.0</td>\n",
       "      <td>17312210040000</td>\n",
       "      <td>2020.0</td>\n",
       "      <td>2020-09-16 00:00:00+00:00</td>\n",
       "      <td>310000.0</td>\n",
       "      <td>5.491362</td>\n",
       "      <td>7098657.0</td>\n",
       "      <td>2032507219</td>\n",
       "      <td>01</td>\n",
       "      <td>...</td>\n",
       "      <td>1893.0</td>\n",
       "      <td>197.075652</td>\n",
       "      <td>0.003491</td>\n",
       "      <td>NaN</td>\n",
       "      <td>0.460942</td>\n",
       "      <td>5.388322</td>\n",
       "      <td>0.103040</td>\n",
       "      <td>5.303952</td>\n",
       "      <td>0.187409</td>\n",
       "      <td>NaN</td>\n",
       "    </tr>\n",
       "    <tr>\n",
       "      <th>298757</th>\n",
       "      <td>212</td>\n",
       "      <td>76.0</td>\n",
       "      <td>17282110020000</td>\n",
       "      <td>2018.0</td>\n",
       "      <td>2018-04-01 00:00:00+00:00</td>\n",
       "      <td>570000.0</td>\n",
       "      <td>5.755875</td>\n",
       "      <td>98336720.0</td>\n",
       "      <td>1810318075</td>\n",
       "      <td>01</td>\n",
       "      <td>...</td>\n",
       "      <td>1891.0</td>\n",
       "      <td>186.274510</td>\n",
       "      <td>0.001881</td>\n",
       "      <td>NaN</td>\n",
       "      <td>0.460942</td>\n",
       "      <td>5.388322</td>\n",
       "      <td>0.367553</td>\n",
       "      <td>5.506729</td>\n",
       "      <td>0.249146</td>\n",
       "      <td>NaN</td>\n",
       "    </tr>\n",
       "    <tr>\n",
       "      <th>298805</th>\n",
       "      <td>212</td>\n",
       "      <td>76.0</td>\n",
       "      <td>17284270280000</td>\n",
       "      <td>2018.0</td>\n",
       "      <td>2018-07-01 00:00:00+00:00</td>\n",
       "      <td>688000.0</td>\n",
       "      <td>5.837588</td>\n",
       "      <td>96445699.0</td>\n",
       "      <td>1820644051</td>\n",
       "      <td>01</td>\n",
       "      <td>...</td>\n",
       "      <td>2005.0</td>\n",
       "      <td>115.591398</td>\n",
       "      <td>0.000981</td>\n",
       "      <td>NaN</td>\n",
       "      <td>0.460942</td>\n",
       "      <td>5.388322</td>\n",
       "      <td>0.449266</td>\n",
       "      <td>5.506729</td>\n",
       "      <td>0.330860</td>\n",
       "      <td>NaN</td>\n",
       "    </tr>\n",
       "  </tbody>\n",
       "</table>\n",
       "<p>7244 rows × 55 columns</p>\n",
       "</div>"
      ],
      "text/plain": [
       "       class  township_code             pin    year                 sale_date  \\\n",
       "9        211           76.0  16364000080000  2018.0 2018-10-01 00:00:00+00:00   \n",
       "30       211           76.0  17294270430000  2018.0 2018-02-01 00:00:00+00:00   \n",
       "31       211           76.0  17294270430000  2018.0 2018-02-01 00:00:00+00:00   \n",
       "78       203           76.0  17314180080000  2018.0 2018-07-01 00:00:00+00:00   \n",
       "117      203           76.0  17283180210000  2018.0 2018-08-01 00:00:00+00:00   \n",
       "...      ...            ...             ...     ...                       ...   \n",
       "298455   299           76.0  17221050501188  2019.0 2019-07-01 00:00:00+00:00   \n",
       "298460   299           76.0  17103160331045  2019.0 2019-11-01 00:00:00+00:00   \n",
       "298730   203           76.0  17312210040000  2020.0 2020-09-16 00:00:00+00:00   \n",
       "298757   212           76.0  17282110020000  2018.0 2018-04-01 00:00:00+00:00   \n",
       "298805   212           76.0  17284270280000  2018.0 2018-07-01 00:00:00+00:00   \n",
       "\n",
       "        sale_price  sale_price_log10    sale_key      doc_no deed_type  ...  \\\n",
       "9         118000.0          5.071882  97299586.0  1831319495        01  ...   \n",
       "30        236000.0          5.372912  97298082.0  1805841021        01  ...   \n",
       "31        236000.0          5.372912  97298082.0  1805841021        01  ...   \n",
       "78        265000.0          5.423246  96705202.0  1820718048        01  ...   \n",
       "117       385000.0          5.585461  97114308.0  1823612060        01  ...   \n",
       "...            ...               ...         ...         ...       ...  ...   \n",
       "298455    335000.0          5.525045  96591125.0  1919857086        01  ...   \n",
       "298460    242500.0          5.384712  97481747.0  1932508202        01  ...   \n",
       "298730    310000.0          5.491362   7098657.0  2032507219        01  ...   \n",
       "298757    570000.0          5.755875  98336720.0  1810318075        01  ...   \n",
       "298805    688000.0          5.837588  96445699.0  1820644051        01  ...   \n",
       "\n",
       "       year_built price_per_sqft  price_per_sqft_log10  pct  \\\n",
       "9          1888.0      87.797619              0.003774  NaN   \n",
       "30         1894.0     192.810458              0.004390  0.0   \n",
       "31         1864.0     168.571429              0.003838  NaN   \n",
       "78         1888.0     168.253968              0.003443  NaN   \n",
       "117        1983.0     324.894515              0.004713  NaN   \n",
       "...           ...            ...                   ...  ...   \n",
       "298455     2008.0            NaN                   NaN  NaN   \n",
       "298460     2001.0            NaN                   NaN  NaN   \n",
       "298730     1893.0     197.075652              0.003491  NaN   \n",
       "298757     1891.0     186.274510              0.001881  NaN   \n",
       "298805     2005.0     115.591398              0.000981  NaN   \n",
       "\n",
       "       township_avg_change  township_mean_sale_log10  \\\n",
       "9                 0.460942                  5.388322   \n",
       "30                0.460942                  5.388322   \n",
       "31                0.460942                  5.388322   \n",
       "78                0.460942                  5.388322   \n",
       "117               0.460942                  5.388322   \n",
       "...                    ...                       ...   \n",
       "298455            0.460942                  5.388322   \n",
       "298460            0.460942                  5.388322   \n",
       "298730            0.460942                  5.388322   \n",
       "298757            0.460942                  5.388322   \n",
       "298805            0.460942                  5.388322   \n",
       "\n",
       "        diff_from_township_mean_sale_log10  class_mean_sale_log10  \\\n",
       "9                                 0.316440               5.441753   \n",
       "30                                0.015410               5.441753   \n",
       "31                                0.015410               5.441753   \n",
       "78                                0.034924               5.303952   \n",
       "117                               0.197139               5.303952   \n",
       "...                                    ...                    ...   \n",
       "298455                            0.136723               5.317660   \n",
       "298460                            0.003610               5.317660   \n",
       "298730                            0.103040               5.303952   \n",
       "298757                            0.367553               5.506729   \n",
       "298805                            0.449266               5.506729   \n",
       "\n",
       "       diff_from_class_mean_sale_log10 days_since_last_transaction  \n",
       "9                             0.369871                         NaN  \n",
       "30                            0.068841                         0.0  \n",
       "31                            0.068841                         NaN  \n",
       "78                            0.119294                         NaN  \n",
       "117                           0.281508                         NaN  \n",
       "...                                ...                         ...  \n",
       "298455                        0.207385                         NaN  \n",
       "298460                        0.067052                         NaN  \n",
       "298730                        0.187409                         NaN  \n",
       "298757                        0.249146                         NaN  \n",
       "298805                        0.330860                         NaN  \n",
       "\n",
       "[7244 rows x 55 columns]"
      ]
     },
     "execution_count": 52,
     "metadata": {},
     "output_type": "execute_result"
    }
   ],
   "source": [
    "sales[sales['township_code'] == 76]"
   ]
  },
  {
   "cell_type": "code",
   "execution_count": 53,
   "metadata": {},
   "outputs": [
    {
     "data": {
      "text/plain": [
       "<AxesSubplot:ylabel='Frequency'>"
      ]
     },
     "execution_count": 53,
     "metadata": {},
     "output_type": "execute_result"
    },
    {
     "data": {
      "image/png": "[encoded data removed]",
      "text/plain": [
       "<Figure size 432x288 with 1 Axes>"
      ]
     },
     "metadata": {
      "needs_background": "light"
     },
     "output_type": "display_data"
    }
   ],
   "source": [
    "sales.township_avg_change.plot.hist()"
   ]
  },
  {
   "cell_type": "markdown",
   "metadata": {},
   "source": [
    "## Between transactions for the same property"
   ]
  },
  {
   "cell_type": "code",
   "execution_count": 54,
   "metadata": {},
   "outputs": [],
   "source": [
    "dups = sales[sales.pin.duplicated(keep=False)]"
   ]
  },
  {
   "cell_type": "code",
   "execution_count": 55,
   "metadata": {},
   "outputs": [],
   "source": [
    "v_counts = dups.pin.value_counts().reset_index().rename(columns={'index':'pin', 'pin':'counts'})"
   ]
  },
  {
   "cell_type": "code",
   "execution_count": 56,
   "metadata": {},
   "outputs": [],
   "source": [
    "def is_outlier_column(df: pd.DataFrame, col: str, lower_lim, upper_lim):\n",
    "    \"\"\"\n",
    "    Function that calculates outliers for pandas columns.\n",
    "    Contrat with is_outlier_groupby().\n",
    "    \"\"\"\n",
    "    lower_limit = df[col].mean() - (df[col].std() * lower_lim)\n",
    "    upper_limit = df[col].mean() + (df[col].std() * upper_lim)\n",
    "    return df[~df[col].between(lower_limit, upper_limit)]\n"
   ]
  },
  {
   "cell_type": "code",
   "execution_count": 57,
   "metadata": {},
   "outputs": [],
   "source": [
    "count_outliers = {}\n",
    "for std in std_permutations:\n",
    "    count_outliers[std] = is_outlier_column(v_counts, 'counts', std[0], std[1])"
   ]
  },
  {
   "cell_type": "code",
   "execution_count": 58,
   "metadata": {},
   "outputs": [
    {
     "name": "stdout",
     "output_type": "stream",
     "text": [
      "(4, 4) 182\n",
      "(3, 4) 182\n",
      "(3, 3) 182\n",
      "(2, 3) 182\n"
     ]
    }
   ],
   "source": [
    "for tup in std_permutations:\n",
    "    print(tup, len(count_outliers[tup]))"
   ]
  },
  {
   "cell_type": "code",
   "execution_count": 59,
   "metadata": {},
   "outputs": [
    {
     "data": {
      "image/png": "[encoded data removed]",
      "text/plain": [
       "<Figure size 720x720 with 4 Axes>"
      ]
     },
     "metadata": {
      "needs_background": "light"
     },
     "output_type": "display_data"
    }
   ],
   "source": [
    "fig, ax = plt.subplots(figsize=(10,10), ncols=1, nrows=len(std_permutations))\n",
    "for std in range(len(std_permutations)):\n",
    "    count_outliers[std_permutations[std]].counts.plot.hist(ax=ax[std])"
   ]
  },
  {
   "cell_type": "code",
   "execution_count": 60,
   "metadata": {},
   "outputs": [
    {
     "data": {
      "text/html": [
       "<div>\n",
       "<style scoped>\n",
       "    .dataframe tbody tr th:only-of-type {\n",
       "        vertical-align: middle;\n",
       "    }\n",
       "\n",
       "    .dataframe tbody tr th {\n",
       "        vertical-align: top;\n",
       "    }\n",
       "\n",
       "    .dataframe thead th {\n",
       "        text-align: right;\n",
       "    }\n",
       "</style>\n",
       "<table border=\"1\" class=\"dataframe\">\n",
       "  <thead>\n",
       "    <tr style=\"text-align: right;\">\n",
       "      <th></th>\n",
       "      <th>pin</th>\n",
       "      <th>counts</th>\n",
       "    </tr>\n",
       "  </thead>\n",
       "  <tbody>\n",
       "    <tr>\n",
       "      <th>0</th>\n",
       "      <td>8121220400000</td>\n",
       "      <td>44</td>\n",
       "    </tr>\n",
       "    <tr>\n",
       "      <th>1</th>\n",
       "      <td>17171020430000</td>\n",
       "      <td>20</td>\n",
       "    </tr>\n",
       "    <tr>\n",
       "      <th>2</th>\n",
       "      <td>17211330040000</td>\n",
       "      <td>15</td>\n",
       "    </tr>\n",
       "    <tr>\n",
       "      <th>3</th>\n",
       "      <td>17341211170000</td>\n",
       "      <td>12</td>\n",
       "    </tr>\n",
       "    <tr>\n",
       "      <th>4</th>\n",
       "      <td>17293090360000</td>\n",
       "      <td>12</td>\n",
       "    </tr>\n",
       "    <tr>\n",
       "      <th>...</th>\n",
       "      <td>...</td>\n",
       "      <td>...</td>\n",
       "    </tr>\n",
       "    <tr>\n",
       "      <th>177</th>\n",
       "      <td>14083040581002</td>\n",
       "      <td>4</td>\n",
       "    </tr>\n",
       "    <tr>\n",
       "      <th>178</th>\n",
       "      <td>13152110410000</td>\n",
       "      <td>4</td>\n",
       "    </tr>\n",
       "    <tr>\n",
       "      <th>179</th>\n",
       "      <td>20102110380000</td>\n",
       "      <td>4</td>\n",
       "    </tr>\n",
       "    <tr>\n",
       "      <th>180</th>\n",
       "      <td>19323210170000</td>\n",
       "      <td>4</td>\n",
       "    </tr>\n",
       "    <tr>\n",
       "      <th>181</th>\n",
       "      <td>14311280260000</td>\n",
       "      <td>4</td>\n",
       "    </tr>\n",
       "  </tbody>\n",
       "</table>\n",
       "<p>182 rows × 2 columns</p>\n",
       "</div>"
      ],
      "text/plain": [
       "                pin  counts\n",
       "0     8121220400000      44\n",
       "1    17171020430000      20\n",
       "2    17211330040000      15\n",
       "3    17341211170000      12\n",
       "4    17293090360000      12\n",
       "..              ...     ...\n",
       "177  14083040581002       4\n",
       "178  13152110410000       4\n",
       "179  20102110380000       4\n",
       "180  19323210170000       4\n",
       "181  14311280260000       4\n",
       "\n",
       "[182 rows x 2 columns]"
      ]
     },
     "execution_count": 60,
     "metadata": {},
     "output_type": "execute_result"
    }
   ],
   "source": [
    "count_outliers[(2,3)]"
   ]
  },
  {
   "cell_type": "code",
   "execution_count": 61,
   "metadata": {},
   "outputs": [
    {
     "name": "stderr",
     "output_type": "stream",
     "text": [
      "/tmp/ipykernel_698244/2132625190.py:17: UserWarning: Boolean Series key will be reindexed to match DataFrame index.\n",
      "  std_outliers = df.dropna(subset=[group, col])[df.groupby([group, 'class'])[col].apply(is_outlier_groupby, permuts[tup][0], permuts[tup][1])]\n",
      "/tmp/ipykernel_698244/2132625190.py:18: UserWarning: Boolean Series key will be reindexed to match DataFrame index.\n",
      "  no_std_outliers = df.dropna(subset=[group, col])[~df.groupby([group, 'class'])[col].apply(is_outlier_groupby, permuts[tup][0], permuts[tup][1])]\n",
      "/tmp/ipykernel_698244/2132625190.py:17: UserWarning: Boolean Series key will be reindexed to match DataFrame index.\n",
      "  std_outliers = df.dropna(subset=[group, col])[df.groupby([group, 'class'])[col].apply(is_outlier_groupby, permuts[tup][0], permuts[tup][1])]\n",
      "/tmp/ipykernel_698244/2132625190.py:18: UserWarning: Boolean Series key will be reindexed to match DataFrame index.\n",
      "  no_std_outliers = df.dropna(subset=[group, col])[~df.groupby([group, 'class'])[col].apply(is_outlier_groupby, permuts[tup][0], permuts[tup][1])]\n",
      "/tmp/ipykernel_698244/2132625190.py:17: UserWarning: Boolean Series key will be reindexed to match DataFrame index.\n",
      "  std_outliers = df.dropna(subset=[group, col])[df.groupby([group, 'class'])[col].apply(is_outlier_groupby, permuts[tup][0], permuts[tup][1])]\n",
      "/tmp/ipykernel_698244/2132625190.py:18: UserWarning: Boolean Series key will be reindexed to match DataFrame index.\n",
      "  no_std_outliers = df.dropna(subset=[group, col])[~df.groupby([group, 'class'])[col].apply(is_outlier_groupby, permuts[tup][0], permuts[tup][1])]\n",
      "/tmp/ipykernel_698244/2132625190.py:17: UserWarning: Boolean Series key will be reindexed to match DataFrame index.\n",
      "  std_outliers = df.dropna(subset=[group, col])[df.groupby([group, 'class'])[col].apply(is_outlier_groupby, permuts[tup][0], permuts[tup][1])]\n",
      "/tmp/ipykernel_698244/2132625190.py:18: UserWarning: Boolean Series key will be reindexed to match DataFrame index.\n",
      "  no_std_outliers = df.dropna(subset=[group, col])[~df.groupby([group, 'class'])[col].apply(is_outlier_groupby, permuts[tup][0], permuts[tup][1])]\n"
     ]
    },
    {
     "name": "stdout",
     "output_type": "stream",
     "text": [
      "[(300, 0.009014152218983804), (308, 0.00925452961149004), (572, 0.017186983564195787), (588, 0.01766773834920826)]\n"
     ]
    },
    {
     "data": {
      "image/png": "[encoded data removed]",
      "text/plain": [
       "<Figure size 1080x720 with 8 Axes>"
      ]
     },
     "metadata": {
      "needs_background": "light"
     },
     "output_type": "display_data"
    }
   ],
   "source": [
    "std_permutations = [(4,4), (3,4), (3,3), (2,3)]\n",
    "volatile_outliers = plot_std(sales, 'township_code', 'pct', std_permutations)"
   ]
  },
  {
   "cell_type": "code",
   "execution_count": 62,
   "metadata": {},
   "outputs": [
    {
     "data": {
      "text/html": [
       "<div>\n",
       "<style scoped>\n",
       "    .dataframe tbody tr th:only-of-type {\n",
       "        vertical-align: middle;\n",
       "    }\n",
       "\n",
       "    .dataframe tbody tr th {\n",
       "        vertical-align: top;\n",
       "    }\n",
       "\n",
       "    .dataframe thead th {\n",
       "        text-align: right;\n",
       "    }\n",
       "</style>\n",
       "<table border=\"1\" class=\"dataframe\">\n",
       "  <thead>\n",
       "    <tr style=\"text-align: right;\">\n",
       "      <th></th>\n",
       "      <th>class</th>\n",
       "      <th>township_code</th>\n",
       "      <th>pin</th>\n",
       "      <th>year</th>\n",
       "      <th>sale_date</th>\n",
       "      <th>sale_price</th>\n",
       "      <th>sale_price_log10</th>\n",
       "      <th>sale_key</th>\n",
       "      <th>doc_no</th>\n",
       "      <th>deed_type</th>\n",
       "      <th>...</th>\n",
       "      <th>year_built</th>\n",
       "      <th>price_per_sqft</th>\n",
       "      <th>price_per_sqft_log10</th>\n",
       "      <th>pct</th>\n",
       "      <th>township_avg_change</th>\n",
       "      <th>township_mean_sale_log10</th>\n",
       "      <th>diff_from_township_mean_sale_log10</th>\n",
       "      <th>class_mean_sale_log10</th>\n",
       "      <th>diff_from_class_mean_sale_log10</th>\n",
       "      <th>days_since_last_transaction</th>\n",
       "    </tr>\n",
       "  </thead>\n",
       "  <tbody>\n",
       "    <tr>\n",
       "      <th>149</th>\n",
       "      <td>278</td>\n",
       "      <td>77.0</td>\n",
       "      <td>16032160430000</td>\n",
       "      <td>2021.0</td>\n",
       "      <td>2021-07-19 00:00:00+00:00</td>\n",
       "      <td>397500.0</td>\n",
       "      <td>5.599337</td>\n",
       "      <td>7226615.0</td>\n",
       "      <td>2121725028</td>\n",
       "      <td>01</td>\n",
       "      <td>...</td>\n",
       "      <td>2021.0</td>\n",
       "      <td>187.323280</td>\n",
       "      <td>0.002639</td>\n",
       "      <td>11.421875</td>\n",
       "      <td>1.131973</td>\n",
       "      <td>5.521533</td>\n",
       "      <td>0.077804</td>\n",
       "      <td>5.699926</td>\n",
       "      <td>0.100588</td>\n",
       "      <td>930.0</td>\n",
       "    </tr>\n",
       "    <tr>\n",
       "      <th>281</th>\n",
       "      <td>204</td>\n",
       "      <td>77.0</td>\n",
       "      <td>16234180270000</td>\n",
       "      <td>2022.0</td>\n",
       "      <td>2022-02-22 00:00:00+00:00</td>\n",
       "      <td>230000.0</td>\n",
       "      <td>5.361728</td>\n",
       "      <td>7304181.0</td>\n",
       "      <td>2205639015</td>\n",
       "      <td>01</td>\n",
       "      <td>...</td>\n",
       "      <td>1903.0</td>\n",
       "      <td>124.593716</td>\n",
       "      <td>0.002905</td>\n",
       "      <td>6.931034</td>\n",
       "      <td>1.131973</td>\n",
       "      <td>5.521533</td>\n",
       "      <td>0.159805</td>\n",
       "      <td>5.554995</td>\n",
       "      <td>0.193267</td>\n",
       "      <td>1179.0</td>\n",
       "    </tr>\n",
       "    <tr>\n",
       "      <th>514</th>\n",
       "      <td>205</td>\n",
       "      <td>72.0</td>\n",
       "      <td>20312250080000</td>\n",
       "      <td>2021.0</td>\n",
       "      <td>2021-10-06 00:00:00+00:00</td>\n",
       "      <td>269900.0</td>\n",
       "      <td>5.431203</td>\n",
       "      <td>7273313.0</td>\n",
       "      <td>2134912090</td>\n",
       "      <td>01</td>\n",
       "      <td>...</td>\n",
       "      <td>1893.0</td>\n",
       "      <td>162.786490</td>\n",
       "      <td>0.003276</td>\n",
       "      <td>7.996667</td>\n",
       "      <td>1.867913</td>\n",
       "      <td>5.158363</td>\n",
       "      <td>0.272840</td>\n",
       "      <td>5.433834</td>\n",
       "      <td>0.002632</td>\n",
       "      <td>828.0</td>\n",
       "    </tr>\n",
       "    <tr>\n",
       "      <th>585</th>\n",
       "      <td>211</td>\n",
       "      <td>31.0</td>\n",
       "      <td>15143060120000</td>\n",
       "      <td>2021.0</td>\n",
       "      <td>2021-02-05 00:00:00+00:00</td>\n",
       "      <td>289000.0</td>\n",
       "      <td>5.460898</td>\n",
       "      <td>7153343.0</td>\n",
       "      <td>2106439176</td>\n",
       "      <td>01</td>\n",
       "      <td>...</td>\n",
       "      <td>1920.0</td>\n",
       "      <td>147.148676</td>\n",
       "      <td>0.002780</td>\n",
       "      <td>5.601640</td>\n",
       "      <td>1.081472</td>\n",
       "      <td>5.316818</td>\n",
       "      <td>0.144080</td>\n",
       "      <td>5.441753</td>\n",
       "      <td>0.019145</td>\n",
       "      <td>370.0</td>\n",
       "    </tr>\n",
       "    <tr>\n",
       "      <th>967</th>\n",
       "      <td>204</td>\n",
       "      <td>71.0</td>\n",
       "      <td>13292140080000</td>\n",
       "      <td>2020.0</td>\n",
       "      <td>2020-07-01 00:00:00+00:00</td>\n",
       "      <td>325000.0</td>\n",
       "      <td>5.511883</td>\n",
       "      <td>97334007.0</td>\n",
       "      <td>2026212201</td>\n",
       "      <td>05</td>\n",
       "      <td>...</td>\n",
       "      <td>1925.0</td>\n",
       "      <td>158.227848</td>\n",
       "      <td>0.002683</td>\n",
       "      <td>9.156250</td>\n",
       "      <td>0.670836</td>\n",
       "      <td>5.498897</td>\n",
       "      <td>0.012986</td>\n",
       "      <td>5.554995</td>\n",
       "      <td>0.043112</td>\n",
       "      <td>516.0</td>\n",
       "    </tr>\n",
       "    <tr>\n",
       "      <th>...</th>\n",
       "      <td>...</td>\n",
       "      <td>...</td>\n",
       "      <td>...</td>\n",
       "      <td>...</td>\n",
       "      <td>...</td>\n",
       "      <td>...</td>\n",
       "      <td>...</td>\n",
       "      <td>...</td>\n",
       "      <td>...</td>\n",
       "      <td>...</td>\n",
       "      <td>...</td>\n",
       "      <td>...</td>\n",
       "      <td>...</td>\n",
       "      <td>...</td>\n",
       "      <td>...</td>\n",
       "      <td>...</td>\n",
       "      <td>...</td>\n",
       "      <td>...</td>\n",
       "      <td>...</td>\n",
       "      <td>...</td>\n",
       "      <td>...</td>\n",
       "    </tr>\n",
       "    <tr>\n",
       "      <th>292625</th>\n",
       "      <td>208</td>\n",
       "      <td>19.0</td>\n",
       "      <td>22243060050000</td>\n",
       "      <td>2021.0</td>\n",
       "      <td>2021-11-03 00:00:00+00:00</td>\n",
       "      <td>402000.0</td>\n",
       "      <td>5.604226</td>\n",
       "      <td>7280716.0</td>\n",
       "      <td>2133501110</td>\n",
       "      <td>01</td>\n",
       "      <td>...</td>\n",
       "      <td>1989.0</td>\n",
       "      <td>81.657526</td>\n",
       "      <td>0.001138</td>\n",
       "      <td>0.109731</td>\n",
       "      <td>0.419505</td>\n",
       "      <td>5.581725</td>\n",
       "      <td>0.022501</td>\n",
       "      <td>5.957856</td>\n",
       "      <td>0.353630</td>\n",
       "      <td>1159.0</td>\n",
       "    </tr>\n",
       "    <tr>\n",
       "      <th>295256</th>\n",
       "      <td>205</td>\n",
       "      <td>20.0</td>\n",
       "      <td>12254100160000</td>\n",
       "      <td>2021.0</td>\n",
       "      <td>2021-07-20 00:00:00+00:00</td>\n",
       "      <td>625000.0</td>\n",
       "      <td>5.795880</td>\n",
       "      <td>7228673.0</td>\n",
       "      <td>2122134072</td>\n",
       "      <td>05</td>\n",
       "      <td>...</td>\n",
       "      <td>1942.0</td>\n",
       "      <td>347.029428</td>\n",
       "      <td>0.003218</td>\n",
       "      <td>6.352941</td>\n",
       "      <td>0.699796</td>\n",
       "      <td>5.334347</td>\n",
       "      <td>0.461533</td>\n",
       "      <td>5.433834</td>\n",
       "      <td>0.362046</td>\n",
       "      <td>280.0</td>\n",
       "    </tr>\n",
       "    <tr>\n",
       "      <th>296752</th>\n",
       "      <td>205</td>\n",
       "      <td>72.0</td>\n",
       "      <td>20284110380000</td>\n",
       "      <td>2021.0</td>\n",
       "      <td>2021-09-20 00:00:00+00:00</td>\n",
       "      <td>285000.0</td>\n",
       "      <td>5.454845</td>\n",
       "      <td>7237409.0</td>\n",
       "      <td>2127342029</td>\n",
       "      <td>01</td>\n",
       "      <td>...</td>\n",
       "      <td>1921.0</td>\n",
       "      <td>141.369048</td>\n",
       "      <td>0.002706</td>\n",
       "      <td>12.013104</td>\n",
       "      <td>1.867913</td>\n",
       "      <td>5.158363</td>\n",
       "      <td>0.296482</td>\n",
       "      <td>5.433834</td>\n",
       "      <td>0.021010</td>\n",
       "      <td>228.0</td>\n",
       "    </tr>\n",
       "    <tr>\n",
       "      <th>298831</th>\n",
       "      <td>209</td>\n",
       "      <td>24.0</td>\n",
       "      <td>10343090620000</td>\n",
       "      <td>2020.0</td>\n",
       "      <td>2020-07-01 00:00:00+00:00</td>\n",
       "      <td>1340000.0</td>\n",
       "      <td>6.127105</td>\n",
       "      <td>97333979.0</td>\n",
       "      <td>2026212198</td>\n",
       "      <td>02</td>\n",
       "      <td>...</td>\n",
       "      <td>2019.0</td>\n",
       "      <td>254.028436</td>\n",
       "      <td>0.001162</td>\n",
       "      <td>2.769339</td>\n",
       "      <td>0.476809</td>\n",
       "      <td>5.484434</td>\n",
       "      <td>0.642670</td>\n",
       "      <td>6.171084</td>\n",
       "      <td>0.043979</td>\n",
       "      <td>792.0</td>\n",
       "    </tr>\n",
       "    <tr>\n",
       "      <th>298842</th>\n",
       "      <td>204</td>\n",
       "      <td>38.0</td>\n",
       "      <td>3223110100000</td>\n",
       "      <td>2021.0</td>\n",
       "      <td>2021-12-02 00:00:00+00:00</td>\n",
       "      <td>850000.0</td>\n",
       "      <td>5.929419</td>\n",
       "      <td>7326472.0</td>\n",
       "      <td>2203521188</td>\n",
       "      <td>01</td>\n",
       "      <td>...</td>\n",
       "      <td>2021.0</td>\n",
       "      <td>256.720024</td>\n",
       "      <td>0.001791</td>\n",
       "      <td>3.722222</td>\n",
       "      <td>0.425032</td>\n",
       "      <td>5.414759</td>\n",
       "      <td>0.514660</td>\n",
       "      <td>5.554995</td>\n",
       "      <td>0.374424</td>\n",
       "      <td>762.0</td>\n",
       "    </tr>\n",
       "  </tbody>\n",
       "</table>\n",
       "<p>588 rows × 55 columns</p>\n",
       "</div>"
      ],
      "text/plain": [
       "       class  township_code             pin    year                 sale_date  \\\n",
       "149      278           77.0  16032160430000  2021.0 2021-07-19 00:00:00+00:00   \n",
       "281      204           77.0  16234180270000  2022.0 2022-02-22 00:00:00+00:00   \n",
       "514      205           72.0  20312250080000  2021.0 2021-10-06 00:00:00+00:00   \n",
       "585      211           31.0  15143060120000  2021.0 2021-02-05 00:00:00+00:00   \n",
       "967      204           71.0  13292140080000  2020.0 2020-07-01 00:00:00+00:00   \n",
       "...      ...            ...             ...     ...                       ...   \n",
       "292625   208           19.0  22243060050000  2021.0 2021-11-03 00:00:00+00:00   \n",
       "295256   205           20.0  12254100160000  2021.0 2021-07-20 00:00:00+00:00   \n",
       "296752   205           72.0  20284110380000  2021.0 2021-09-20 00:00:00+00:00   \n",
       "298831   209           24.0  10343090620000  2020.0 2020-07-01 00:00:00+00:00   \n",
       "298842   204           38.0   3223110100000  2021.0 2021-12-02 00:00:00+00:00   \n",
       "\n",
       "        sale_price  sale_price_log10    sale_key      doc_no deed_type  ...  \\\n",
       "149       397500.0          5.599337   7226615.0  2121725028        01  ...   \n",
       "281       230000.0          5.361728   7304181.0  2205639015        01  ...   \n",
       "514       269900.0          5.431203   7273313.0  2134912090        01  ...   \n",
       "585       289000.0          5.460898   7153343.0  2106439176        01  ...   \n",
       "967       325000.0          5.511883  97334007.0  2026212201        05  ...   \n",
       "...            ...               ...         ...         ...       ...  ...   \n",
       "292625    402000.0          5.604226   7280716.0  2133501110        01  ...   \n",
       "295256    625000.0          5.795880   7228673.0  2122134072        05  ...   \n",
       "296752    285000.0          5.454845   7237409.0  2127342029        01  ...   \n",
       "298831   1340000.0          6.127105  97333979.0  2026212198        02  ...   \n",
       "298842    850000.0          5.929419   7326472.0  2203521188        01  ...   \n",
       "\n",
       "       year_built price_per_sqft  price_per_sqft_log10        pct  \\\n",
       "149        2021.0     187.323280              0.002639  11.421875   \n",
       "281        1903.0     124.593716              0.002905   6.931034   \n",
       "514        1893.0     162.786490              0.003276   7.996667   \n",
       "585        1920.0     147.148676              0.002780   5.601640   \n",
       "967        1925.0     158.227848              0.002683   9.156250   \n",
       "...           ...            ...                   ...        ...   \n",
       "292625     1989.0      81.657526              0.001138   0.109731   \n",
       "295256     1942.0     347.029428              0.003218   6.352941   \n",
       "296752     1921.0     141.369048              0.002706  12.013104   \n",
       "298831     2019.0     254.028436              0.001162   2.769339   \n",
       "298842     2021.0     256.720024              0.001791   3.722222   \n",
       "\n",
       "       township_avg_change  township_mean_sale_log10  \\\n",
       "149               1.131973                  5.521533   \n",
       "281               1.131973                  5.521533   \n",
       "514               1.867913                  5.158363   \n",
       "585               1.081472                  5.316818   \n",
       "967               0.670836                  5.498897   \n",
       "...                    ...                       ...   \n",
       "292625            0.419505                  5.581725   \n",
       "295256            0.699796                  5.334347   \n",
       "296752            1.867913                  5.158363   \n",
       "298831            0.476809                  5.484434   \n",
       "298842            0.425032                  5.414759   \n",
       "\n",
       "        diff_from_township_mean_sale_log10  class_mean_sale_log10  \\\n",
       "149                               0.077804               5.699926   \n",
       "281                               0.159805               5.554995   \n",
       "514                               0.272840               5.433834   \n",
       "585                               0.144080               5.441753   \n",
       "967                               0.012986               5.554995   \n",
       "...                                    ...                    ...   \n",
       "292625                            0.022501               5.957856   \n",
       "295256                            0.461533               5.433834   \n",
       "296752                            0.296482               5.433834   \n",
       "298831                            0.642670               6.171084   \n",
       "298842                            0.514660               5.554995   \n",
       "\n",
       "       diff_from_class_mean_sale_log10 days_since_last_transaction  \n",
       "149                           0.100588                       930.0  \n",
       "281                           0.193267                      1179.0  \n",
       "514                           0.002632                       828.0  \n",
       "585                           0.019145                       370.0  \n",
       "967                           0.043112                       516.0  \n",
       "...                                ...                         ...  \n",
       "292625                        0.353630                      1159.0  \n",
       "295256                        0.362046                       280.0  \n",
       "296752                        0.021010                       228.0  \n",
       "298831                        0.043979                       792.0  \n",
       "298842                        0.374424                       762.0  \n",
       "\n",
       "[588 rows x 55 columns]"
      ]
     },
     "execution_count": 62,
     "metadata": {},
     "output_type": "execute_result"
    }
   ],
   "source": [
    "volatile_outliers[(2,3)]"
   ]
  },
  {
   "cell_type": "markdown",
   "metadata": {},
   "source": [
    "## Length of Property Holding"
   ]
  },
  {
   "cell_type": "code",
   "execution_count": 63,
   "metadata": {},
   "outputs": [],
   "source": [
    "sales['days_since_last_transaction'] = sales.sort_values('sale_date').groupby('pin')['sale_date'].diff().apply(lambda x: x.days)"
   ]
  },
  {
   "cell_type": "code",
   "execution_count": 64,
   "metadata": {},
   "outputs": [
    {
     "data": {
      "text/plain": [
       "<AxesSubplot:ylabel='Frequency'>"
      ]
     },
     "execution_count": 64,
     "metadata": {},
     "output_type": "execute_result"
    },
    {
     "data": {
      "image/png": "[encoded data removed]",
      "text/plain": [
       "<Figure size 432x288 with 1 Axes>"
      ]
     },
     "metadata": {
      "needs_background": "light"
     },
     "output_type": "display_data"
    }
   ],
   "source": [
    "sales.days_since_last_transaction.plot.hist()"
   ]
  },
  {
   "cell_type": "code",
   "execution_count": 65,
   "metadata": {},
   "outputs": [
    {
     "data": {
      "text/plain": [
       "count    33281.000000\n",
       "mean       506.714762\n",
       "std        365.483753\n",
       "min          0.000000\n",
       "25%        213.000000\n",
       "50%        397.000000\n",
       "75%        775.000000\n",
       "max       1536.000000\n",
       "Name: days_since_last_transaction, dtype: float64"
      ]
     },
     "execution_count": 65,
     "metadata": {},
     "output_type": "execute_result"
    }
   ],
   "source": [
    "sales.days_since_last_transaction.describe()"
   ]
  },
  {
   "cell_type": "code",
   "execution_count": 66,
   "metadata": {},
   "outputs": [
    {
     "name": "stderr",
     "output_type": "stream",
     "text": [
      "/tmp/ipykernel_698244/2132625190.py:17: UserWarning: Boolean Series key will be reindexed to match DataFrame index.\n",
      "  std_outliers = df.dropna(subset=[group, col])[df.groupby([group, 'class'])[col].apply(is_outlier_groupby, permuts[tup][0], permuts[tup][1])]\n",
      "/tmp/ipykernel_698244/2132625190.py:18: UserWarning: Boolean Series key will be reindexed to match DataFrame index.\n",
      "  no_std_outliers = df.dropna(subset=[group, col])[~df.groupby([group, 'class'])[col].apply(is_outlier_groupby, permuts[tup][0], permuts[tup][1])]\n",
      "/tmp/ipykernel_698244/2132625190.py:17: UserWarning: Boolean Series key will be reindexed to match DataFrame index.\n",
      "  std_outliers = df.dropna(subset=[group, col])[df.groupby([group, 'class'])[col].apply(is_outlier_groupby, permuts[tup][0], permuts[tup][1])]\n",
      "/tmp/ipykernel_698244/2132625190.py:18: UserWarning: Boolean Series key will be reindexed to match DataFrame index.\n",
      "  no_std_outliers = df.dropna(subset=[group, col])[~df.groupby([group, 'class'])[col].apply(is_outlier_groupby, permuts[tup][0], permuts[tup][1])]\n",
      "/tmp/ipykernel_698244/2132625190.py:17: UserWarning: Boolean Series key will be reindexed to match DataFrame index.\n",
      "  std_outliers = df.dropna(subset=[group, col])[df.groupby([group, 'class'])[col].apply(is_outlier_groupby, permuts[tup][0], permuts[tup][1])]\n",
      "/tmp/ipykernel_698244/2132625190.py:18: UserWarning: Boolean Series key will be reindexed to match DataFrame index.\n",
      "  no_std_outliers = df.dropna(subset=[group, col])[~df.groupby([group, 'class'])[col].apply(is_outlier_groupby, permuts[tup][0], permuts[tup][1])]\n",
      "/tmp/ipykernel_698244/2132625190.py:17: UserWarning: Boolean Series key will be reindexed to match DataFrame index.\n",
      "  std_outliers = df.dropna(subset=[group, col])[df.groupby([group, 'class'])[col].apply(is_outlier_groupby, permuts[tup][0], permuts[tup][1])]\n",
      "/tmp/ipykernel_698244/2132625190.py:18: UserWarning: Boolean Series key will be reindexed to match DataFrame index.\n",
      "  no_std_outliers = df.dropna(subset=[group, col])[~df.groupby([group, 'class'])[col].apply(is_outlier_groupby, permuts[tup][0], permuts[tup][1])]\n"
     ]
    },
    {
     "name": "stdout",
     "output_type": "stream",
     "text": [
      "[(53, 0.0015925002253538054), (53, 0.0015925002253538054), (165, 0.0049577837204410925), (203, 0.006099576334845707)]\n"
     ]
    },
    {
     "data": {
      "image/png": "[encoded data removed]",
      "text/plain": [
       "<Figure size 1080x720 with 8 Axes>"
      ]
     },
     "metadata": {
      "needs_background": "light"
     },
     "output_type": "display_data"
    }
   ],
   "source": [
    "holding_outliers = plot_std(sales, 'township_code', 'days_since_last_transaction', std_permutations)"
   ]
  },
  {
   "cell_type": "code",
   "execution_count": 67,
   "metadata": {},
   "outputs": [
    {
     "name": "stderr",
     "output_type": "stream",
     "text": [
      "/tmp/ipykernel_698244/2132625190.py:17: UserWarning: Boolean Series key will be reindexed to match DataFrame index.\n",
      "  std_outliers = df.dropna(subset=[group, col])[df.groupby([group, 'class'])[col].apply(is_outlier_groupby, permuts[tup][0], permuts[tup][1])]\n",
      "/tmp/ipykernel_698244/2132625190.py:18: UserWarning: Boolean Series key will be reindexed to match DataFrame index.\n",
      "  no_std_outliers = df.dropna(subset=[group, col])[~df.groupby([group, 'class'])[col].apply(is_outlier_groupby, permuts[tup][0], permuts[tup][1])]\n",
      "/tmp/ipykernel_698244/2132625190.py:17: UserWarning: Boolean Series key will be reindexed to match DataFrame index.\n",
      "  std_outliers = df.dropna(subset=[group, col])[df.groupby([group, 'class'])[col].apply(is_outlier_groupby, permuts[tup][0], permuts[tup][1])]\n",
      "/tmp/ipykernel_698244/2132625190.py:18: UserWarning: Boolean Series key will be reindexed to match DataFrame index.\n",
      "  no_std_outliers = df.dropna(subset=[group, col])[~df.groupby([group, 'class'])[col].apply(is_outlier_groupby, permuts[tup][0], permuts[tup][1])]\n",
      "/tmp/ipykernel_698244/2132625190.py:17: UserWarning: Boolean Series key will be reindexed to match DataFrame index.\n",
      "  std_outliers = df.dropna(subset=[group, col])[df.groupby([group, 'class'])[col].apply(is_outlier_groupby, permuts[tup][0], permuts[tup][1])]\n",
      "/tmp/ipykernel_698244/2132625190.py:18: UserWarning: Boolean Series key will be reindexed to match DataFrame index.\n",
      "  no_std_outliers = df.dropna(subset=[group, col])[~df.groupby([group, 'class'])[col].apply(is_outlier_groupby, permuts[tup][0], permuts[tup][1])]\n",
      "/tmp/ipykernel_698244/2132625190.py:17: UserWarning: Boolean Series key will be reindexed to match DataFrame index.\n",
      "  std_outliers = df.dropna(subset=[group, col])[df.groupby([group, 'class'])[col].apply(is_outlier_groupby, permuts[tup][0], permuts[tup][1])]\n",
      "/tmp/ipykernel_698244/2132625190.py:18: UserWarning: Boolean Series key will be reindexed to match DataFrame index.\n",
      "  no_std_outliers = df.dropna(subset=[group, col])[~df.groupby([group, 'class'])[col].apply(is_outlier_groupby, permuts[tup][0], permuts[tup][1])]\n"
     ]
    },
    {
     "name": "stdout",
     "output_type": "stream",
     "text": [
      "[(3, 9.014152218983804e-05), (3, 9.014152218983804e-05), (83, 0.002493915447252186), (83, 0.002493915447252186)]\n"
     ]
    },
    {
     "data": {
      "image/png": "[encoded data removed]",
      "text/plain": [
       "<Figure size 1080x720 with 8 Axes>"
      ]
     },
     "metadata": {
      "needs_background": "light"
     },
     "output_type": "display_data"
    }
   ],
   "source": [
    "class_holding_outliers = plot_std(sales, 'class', 'days_since_last_transaction', std_permutations)"
   ]
  },
  {
   "cell_type": "markdown",
   "metadata": {},
   "source": [
    "## Growth Rates"
   ]
  },
  {
   "cell_type": "code",
   "execution_count": 68,
   "metadata": {},
   "outputs": [],
   "source": [
    "dates = dups.groupby('pin')['sale_date'].agg(['first','last']).reset_index()"
   ]
  },
  {
   "cell_type": "code",
   "execution_count": 69,
   "metadata": {},
   "outputs": [],
   "source": [
    "firsts = dates[['pin', 'first']].copy()\n",
    "firsts.rename(columns= {'first': 'sale_date'}, inplace=True)\n",
    "lasts = dates[['pin', 'last']].copy()\n",
    "lasts.rename(columns= {'last': 'sale_date'}, inplace=True)"
   ]
  },
  {
   "cell_type": "code",
   "execution_count": 70,
   "metadata": {},
   "outputs": [],
   "source": [
    "first_transactions = pd.merge(dups, firsts)\n",
    "last_tranasactions = pd.merge(dups, lasts)"
   ]
  },
  {
   "cell_type": "code",
   "execution_count": 71,
   "metadata": {},
   "outputs": [
    {
     "data": {
      "text/html": [
       "<div>\n",
       "<style scoped>\n",
       "    .dataframe tbody tr th:only-of-type {\n",
       "        vertical-align: middle;\n",
       "    }\n",
       "\n",
       "    .dataframe tbody tr th {\n",
       "        vertical-align: top;\n",
       "    }\n",
       "\n",
       "    .dataframe thead th {\n",
       "        text-align: right;\n",
       "    }\n",
       "</style>\n",
       "<table border=\"1\" class=\"dataframe\">\n",
       "  <thead>\n",
       "    <tr style=\"text-align: right;\">\n",
       "      <th></th>\n",
       "      <th>class</th>\n",
       "      <th>township_code</th>\n",
       "      <th>pin</th>\n",
       "      <th>year</th>\n",
       "      <th>sale_date</th>\n",
       "      <th>sale_price</th>\n",
       "      <th>sale_price_log10</th>\n",
       "      <th>sale_key</th>\n",
       "      <th>doc_no</th>\n",
       "      <th>deed_type</th>\n",
       "      <th>...</th>\n",
       "      <th>year_built</th>\n",
       "      <th>price_per_sqft</th>\n",
       "      <th>price_per_sqft_log10</th>\n",
       "      <th>pct</th>\n",
       "      <th>township_avg_change</th>\n",
       "      <th>township_mean_sale_log10</th>\n",
       "      <th>diff_from_township_mean_sale_log10</th>\n",
       "      <th>class_mean_sale_log10</th>\n",
       "      <th>diff_from_class_mean_sale_log10</th>\n",
       "      <th>days_since_last_transaction</th>\n",
       "    </tr>\n",
       "  </thead>\n",
       "  <tbody>\n",
       "    <tr>\n",
       "      <th>6415</th>\n",
       "      <td>295</td>\n",
       "      <td>76.0</td>\n",
       "      <td>17293090360000</td>\n",
       "      <td>2018.0</td>\n",
       "      <td>2018-06-01 00:00:00+00:00</td>\n",
       "      <td>1900000.0</td>\n",
       "      <td>6.278754</td>\n",
       "      <td>98003615.0</td>\n",
       "      <td>1818349528</td>\n",
       "      <td>05</td>\n",
       "      <td>...</td>\n",
       "      <td>2008.0</td>\n",
       "      <td>816.151203</td>\n",
       "      <td>0.002697</td>\n",
       "      <td>NaN</td>\n",
       "      <td>0.460942</td>\n",
       "      <td>5.388322</td>\n",
       "      <td>0.890432</td>\n",
       "      <td>5.450357</td>\n",
       "      <td>0.828397</td>\n",
       "      <td>NaN</td>\n",
       "    </tr>\n",
       "    <tr>\n",
       "      <th>6416</th>\n",
       "      <td>295</td>\n",
       "      <td>76.0</td>\n",
       "      <td>17293090360000</td>\n",
       "      <td>2018.0</td>\n",
       "      <td>2018-06-01 00:00:00+00:00</td>\n",
       "      <td>1900000.0</td>\n",
       "      <td>6.278754</td>\n",
       "      <td>98003615.0</td>\n",
       "      <td>1818349528</td>\n",
       "      <td>05</td>\n",
       "      <td>...</td>\n",
       "      <td>2008.0</td>\n",
       "      <td>835.899692</td>\n",
       "      <td>0.002762</td>\n",
       "      <td>0.0</td>\n",
       "      <td>0.460942</td>\n",
       "      <td>5.388322</td>\n",
       "      <td>0.890432</td>\n",
       "      <td>5.450357</td>\n",
       "      <td>0.828397</td>\n",
       "      <td>0.0</td>\n",
       "    </tr>\n",
       "    <tr>\n",
       "      <th>6417</th>\n",
       "      <td>295</td>\n",
       "      <td>76.0</td>\n",
       "      <td>17293090360000</td>\n",
       "      <td>2018.0</td>\n",
       "      <td>2018-06-01 00:00:00+00:00</td>\n",
       "      <td>1900000.0</td>\n",
       "      <td>6.278754</td>\n",
       "      <td>98003615.0</td>\n",
       "      <td>1818349528</td>\n",
       "      <td>05</td>\n",
       "      <td>...</td>\n",
       "      <td>2005.0</td>\n",
       "      <td>816.151203</td>\n",
       "      <td>0.002697</td>\n",
       "      <td>0.0</td>\n",
       "      <td>0.460942</td>\n",
       "      <td>5.388322</td>\n",
       "      <td>0.890432</td>\n",
       "      <td>5.450357</td>\n",
       "      <td>0.828397</td>\n",
       "      <td>0.0</td>\n",
       "    </tr>\n",
       "    <tr>\n",
       "      <th>6418</th>\n",
       "      <td>295</td>\n",
       "      <td>76.0</td>\n",
       "      <td>17293090360000</td>\n",
       "      <td>2018.0</td>\n",
       "      <td>2018-06-01 00:00:00+00:00</td>\n",
       "      <td>1900000.0</td>\n",
       "      <td>6.278754</td>\n",
       "      <td>98003615.0</td>\n",
       "      <td>1818349528</td>\n",
       "      <td>05</td>\n",
       "      <td>...</td>\n",
       "      <td>2005.0</td>\n",
       "      <td>872.359963</td>\n",
       "      <td>0.002883</td>\n",
       "      <td>0.0</td>\n",
       "      <td>0.460942</td>\n",
       "      <td>5.388322</td>\n",
       "      <td>0.890432</td>\n",
       "      <td>5.450357</td>\n",
       "      <td>0.828397</td>\n",
       "      <td>0.0</td>\n",
       "    </tr>\n",
       "    <tr>\n",
       "      <th>6419</th>\n",
       "      <td>295</td>\n",
       "      <td>76.0</td>\n",
       "      <td>17293090360000</td>\n",
       "      <td>2018.0</td>\n",
       "      <td>2018-06-01 00:00:00+00:00</td>\n",
       "      <td>1900000.0</td>\n",
       "      <td>6.278754</td>\n",
       "      <td>98003615.0</td>\n",
       "      <td>1818349528</td>\n",
       "      <td>05</td>\n",
       "      <td>...</td>\n",
       "      <td>2005.0</td>\n",
       "      <td>835.899692</td>\n",
       "      <td>0.002762</td>\n",
       "      <td>0.0</td>\n",
       "      <td>0.460942</td>\n",
       "      <td>5.388322</td>\n",
       "      <td>0.890432</td>\n",
       "      <td>5.450357</td>\n",
       "      <td>0.828397</td>\n",
       "      <td>0.0</td>\n",
       "    </tr>\n",
       "    <tr>\n",
       "      <th>6420</th>\n",
       "      <td>295</td>\n",
       "      <td>76.0</td>\n",
       "      <td>17293090360000</td>\n",
       "      <td>2018.0</td>\n",
       "      <td>2018-06-01 00:00:00+00:00</td>\n",
       "      <td>1900000.0</td>\n",
       "      <td>6.278754</td>\n",
       "      <td>98003615.0</td>\n",
       "      <td>1818349528</td>\n",
       "      <td>05</td>\n",
       "      <td>...</td>\n",
       "      <td>2008.0</td>\n",
       "      <td>872.359963</td>\n",
       "      <td>0.002883</td>\n",
       "      <td>0.0</td>\n",
       "      <td>0.460942</td>\n",
       "      <td>5.388322</td>\n",
       "      <td>0.890432</td>\n",
       "      <td>5.450357</td>\n",
       "      <td>0.828397</td>\n",
       "      <td>0.0</td>\n",
       "    </tr>\n",
       "  </tbody>\n",
       "</table>\n",
       "<p>6 rows × 55 columns</p>\n",
       "</div>"
      ],
      "text/plain": [
       "     class  township_code             pin    year                 sale_date  \\\n",
       "6415   295           76.0  17293090360000  2018.0 2018-06-01 00:00:00+00:00   \n",
       "6416   295           76.0  17293090360000  2018.0 2018-06-01 00:00:00+00:00   \n",
       "6417   295           76.0  17293090360000  2018.0 2018-06-01 00:00:00+00:00   \n",
       "6418   295           76.0  17293090360000  2018.0 2018-06-01 00:00:00+00:00   \n",
       "6419   295           76.0  17293090360000  2018.0 2018-06-01 00:00:00+00:00   \n",
       "6420   295           76.0  17293090360000  2018.0 2018-06-01 00:00:00+00:00   \n",
       "\n",
       "      sale_price  sale_price_log10    sale_key      doc_no deed_type  ...  \\\n",
       "6415   1900000.0          6.278754  98003615.0  1818349528        05  ...   \n",
       "6416   1900000.0          6.278754  98003615.0  1818349528        05  ...   \n",
       "6417   1900000.0          6.278754  98003615.0  1818349528        05  ...   \n",
       "6418   1900000.0          6.278754  98003615.0  1818349528        05  ...   \n",
       "6419   1900000.0          6.278754  98003615.0  1818349528        05  ...   \n",
       "6420   1900000.0          6.278754  98003615.0  1818349528        05  ...   \n",
       "\n",
       "     year_built price_per_sqft  price_per_sqft_log10  pct township_avg_change  \\\n",
       "6415     2008.0     816.151203              0.002697  NaN            0.460942   \n",
       "6416     2008.0     835.899692              0.002762  0.0            0.460942   \n",
       "6417     2005.0     816.151203              0.002697  0.0            0.460942   \n",
       "6418     2005.0     872.359963              0.002883  0.0            0.460942   \n",
       "6419     2005.0     835.899692              0.002762  0.0            0.460942   \n",
       "6420     2008.0     872.359963              0.002883  0.0            0.460942   \n",
       "\n",
       "      township_mean_sale_log10  diff_from_township_mean_sale_log10  \\\n",
       "6415                  5.388322                            0.890432   \n",
       "6416                  5.388322                            0.890432   \n",
       "6417                  5.388322                            0.890432   \n",
       "6418                  5.388322                            0.890432   \n",
       "6419                  5.388322                            0.890432   \n",
       "6420                  5.388322                            0.890432   \n",
       "\n",
       "      class_mean_sale_log10 diff_from_class_mean_sale_log10  \\\n",
       "6415               5.450357                        0.828397   \n",
       "6416               5.450357                        0.828397   \n",
       "6417               5.450357                        0.828397   \n",
       "6418               5.450357                        0.828397   \n",
       "6419               5.450357                        0.828397   \n",
       "6420               5.450357                        0.828397   \n",
       "\n",
       "     days_since_last_transaction  \n",
       "6415                         NaN  \n",
       "6416                         0.0  \n",
       "6417                         0.0  \n",
       "6418                         0.0  \n",
       "6419                         0.0  \n",
       "6420                         0.0  \n",
       "\n",
       "[6 rows x 55 columns]"
      ]
     },
     "execution_count": 71,
     "metadata": {},
     "output_type": "execute_result"
    }
   ],
   "source": [
    "first_transactions[first_transactions.pin == 17293090360000]"
   ]
  },
  {
   "cell_type": "code",
   "execution_count": 72,
   "metadata": {},
   "outputs": [],
   "source": [
    "t = last_tranasactions.pin.value_counts()\n",
    "last_tranasactions = last_tranasactions[last_tranasactions.pin.isin(t.index[~t.gt(1)])]\n",
    "t = first_transactions.pin.value_counts()\n",
    "first_transactions = first_transactions[first_transactions.pin.isin(t.index[~t.gt(1)])]"
   ]
  },
  {
   "cell_type": "code",
   "execution_count": 73,
   "metadata": {},
   "outputs": [],
   "source": [
    "transactions = pd.concat([first_transactions, last_tranasactions], ignore_index=True)"
   ]
  },
  {
   "cell_type": "code",
   "execution_count": 74,
   "metadata": {},
   "outputs": [
    {
     "data": {
      "text/plain": [
       "1.0703044486068327"
      ]
     },
     "execution_count": 74,
     "metadata": {},
     "output_type": "execute_result"
    }
   ],
   "source": [
    "transactions.drop(columns=['pct'], axis=1, inplace=True)\n",
    "transactions['total_pct'] = transactions.sort_values('sale_date').groupby('pin')['sale_price'].pct_change()\n",
    "transactions.total_pct.mean()"
   ]
  },
  {
   "cell_type": "code",
   "execution_count": 75,
   "metadata": {},
   "outputs": [
    {
     "data": {
      "text/plain": [
       "count    30455.000000\n",
       "mean         1.070304\n",
       "std          1.577306\n",
       "min         -0.987693\n",
       "25%          0.145130\n",
       "50%          0.547128\n",
       "75%          1.392752\n",
       "max         27.750000\n",
       "Name: total_pct, dtype: float64"
      ]
     },
     "execution_count": 75,
     "metadata": {},
     "output_type": "execute_result"
    }
   ],
   "source": [
    "transactions.total_pct.describe()"
   ]
  },
  {
   "cell_type": "code",
   "execution_count": 76,
   "metadata": {},
   "outputs": [
    {
     "data": {
      "text/plain": [
       "count    445.000000\n",
       "mean       0.548682\n",
       "std        1.054846\n",
       "min       -0.462963\n",
       "25%        0.026052\n",
       "50%        0.155882\n",
       "75%        0.600000\n",
       "max       11.235294\n",
       "Name: total_pct, dtype: float64"
      ]
     },
     "execution_count": 76,
     "metadata": {},
     "output_type": "execute_result"
    }
   ],
   "source": [
    "transactions[transactions.township_code == 76].total_pct.describe()"
   ]
  },
  {
   "cell_type": "code",
   "execution_count": 77,
   "metadata": {},
   "outputs": [
    {
     "data": {
      "text/plain": [
       "'\\ntransactions = transactions[transactions.pin != 17153040641207]\\ntransactions = transactions[transactions.pin != 17153040641003]\\ntransactions = transactions[transactions.pin != 17153040641141]\\ntransactions = transactions[transactions.pin != 17153040641012]\\ntransactions = transactions[transactions.pin != 17153040641112]\\ntransactions = transactions[transactions.pin != 17153040641195]\\ntransactions = transactions[transactions.pin != 17153040641208]\\ntransactions = transactions[transactions.pin != 17153040641209]\\ntransactions = transactions[transactions.pin != 17153040641010]\\ntransactions = transactions[transactions.pin != 17153040641007]\\ntransactions = transactions[transactions.pin != 17153040641113]\\ntransactions = transactions[transactions.pin != 17153040641135]\\ntransactions = transactions[transactions.pin != 17153040641145]\\ntransactions = transactions[transactions.pin != 17153040641023]\\ntransactions = transactions[transactions.pin != 17153040641062]\\ntransactions = transactions[transactions.pin != 17153040641020]\\ntransactions = transactions[transactions.pin != 17153040641002]\\ntransactions = transactions[transactions.pin != 17153040641144]\\ntransactions = transactions[transactions.pin != 17153040641139]\\ntransactions = transactions[transactions.pin != 17153040641126]\\ntransactions = transactions[transactions.pin != 17153040641074]\\ntransactions = transactions[transactions.pin != 17153040641015]\\ntransactions = transactions[transactions.pin != 17153040641095]\\ntransactions = transactions[transactions.pin != 17153040641125]\\ntransactions = transactions[transactions.pin != 17153040641014]\\ntransactions = transactions[transactions.pin != 17153040641080]\\ntransactions = transactions[transactions.pin != 17153040641089]\\ntransactions = transactions[transactions.pin != 17153040641155]\\ntransactions = transactions[transactions.pin != 17153040641072]\\n# PINS map to same property\\n\\ntransactions = transactions[transactions.pin != 9154010240000]\\ntransactions = transactions[transactions.pin != 9154010240000]\\n'"
      ]
     },
     "execution_count": 77,
     "metadata": {},
     "output_type": "execute_result"
    }
   ],
   "source": [
    "\"\"\"\n",
    "transactions = transactions[transactions.pin != 17153040641207]\n",
    "transactions = transactions[transactions.pin != 17153040641003]\n",
    "transactions = transactions[transactions.pin != 17153040641141]\n",
    "transactions = transactions[transactions.pin != 17153040641012]\n",
    "transactions = transactions[transactions.pin != 17153040641112]\n",
    "transactions = transactions[transactions.pin != 17153040641195]\n",
    "transactions = transactions[transactions.pin != 17153040641208]\n",
    "transactions = transactions[transactions.pin != 17153040641209]\n",
    "transactions = transactions[transactions.pin != 17153040641010]\n",
    "transactions = transactions[transactions.pin != 17153040641007]\n",
    "transactions = transactions[transactions.pin != 17153040641113]\n",
    "transactions = transactions[transactions.pin != 17153040641135]\n",
    "transactions = transactions[transactions.pin != 17153040641145]\n",
    "transactions = transactions[transactions.pin != 17153040641023]\n",
    "transactions = transactions[transactions.pin != 17153040641062]\n",
    "transactions = transactions[transactions.pin != 17153040641020]\n",
    "transactions = transactions[transactions.pin != 17153040641002]\n",
    "transactions = transactions[transactions.pin != 17153040641144]\n",
    "transactions = transactions[transactions.pin != 17153040641139]\n",
    "transactions = transactions[transactions.pin != 17153040641126]\n",
    "transactions = transactions[transactions.pin != 17153040641074]\n",
    "transactions = transactions[transactions.pin != 17153040641015]\n",
    "transactions = transactions[transactions.pin != 17153040641095]\n",
    "transactions = transactions[transactions.pin != 17153040641125]\n",
    "transactions = transactions[transactions.pin != 17153040641014]\n",
    "transactions = transactions[transactions.pin != 17153040641080]\n",
    "transactions = transactions[transactions.pin != 17153040641089]\n",
    "transactions = transactions[transactions.pin != 17153040641155]\n",
    "transactions = transactions[transactions.pin != 17153040641072]\n",
    "# PINS map to same property\n",
    "\n",
    "transactions = transactions[transactions.pin != 9154010240000]\n",
    "transactions = transactions[transactions.pin != 9154010240000]\n",
    "\"\"\""
   ]
  },
  {
   "cell_type": "code",
   "execution_count": 78,
   "metadata": {},
   "outputs": [
    {
     "data": {
      "text/plain": [
       "<AxesSubplot:ylabel='Frequency'>"
      ]
     },
     "execution_count": 78,
     "metadata": {},
     "output_type": "execute_result"
    },
    {
     "data": {
      "image/png": "[encoded data removed]",
      "text/plain": [
       "<Figure size 432x288 with 1 Axes>"
      ]
     },
     "metadata": {
      "needs_background": "light"
     },
     "output_type": "display_data"
    }
   ],
   "source": [
    "transactions.total_pct.plot.hist()"
   ]
  },
  {
   "cell_type": "code",
   "execution_count": 79,
   "metadata": {},
   "outputs": [
    {
     "data": {
      "text/plain": [
       "township_code\n",
       "10.0    0.374418\n",
       "11.0    1.020474\n",
       "12.0    1.467673\n",
       "13.0    0.955112\n",
       "14.0    2.262407\n",
       "15.0    1.558235\n",
       "16.0    0.448555\n",
       "17.0    0.483216\n",
       "18.0    0.443711\n",
       "19.0    0.432998\n",
       "20.0    0.716877\n",
       "21.0    0.708175\n",
       "22.0    0.556339\n",
       "23.0    0.623903\n",
       "24.0    0.498016\n",
       "25.0    0.549473\n",
       "26.0    0.592302\n",
       "27.0    0.504758\n",
       "28.0    0.382529\n",
       "29.0    0.329384\n",
       "30.0    0.686520\n",
       "31.0    1.148819\n",
       "32.0    1.279650\n",
       "33.0    0.309286\n",
       "34.0    0.666732\n",
       "35.0    0.369694\n",
       "36.0    1.003759\n",
       "37.0    1.828558\n",
       "38.0    0.435760\n",
       "39.0    0.804520\n",
       "70.0    2.105898\n",
       "71.0    0.716096\n",
       "72.0    2.029013\n",
       "73.0    0.284184\n",
       "74.0    0.230078\n",
       "75.0    0.418401\n",
       "76.0    0.548682\n",
       "77.0    1.310667\n",
       "Name: total_pct, dtype: float64"
      ]
     },
     "execution_count": 79,
     "metadata": {},
     "output_type": "execute_result"
    }
   ],
   "source": [
    "transactions.groupby('township_code')['total_pct'].mean()"
   ]
  },
  {
   "cell_type": "code",
   "execution_count": 80,
   "metadata": {},
   "outputs": [
    {
     "data": {
      "text/plain": [
       "census_tract_geoid\n",
       "1.703180e+10    0.577508\n",
       "1.703180e+10    0.843546\n",
       "1.703180e+10    0.383238\n",
       "1.703180e+10    0.294556\n",
       "1.703180e+10    0.540205\n",
       "                  ...   \n",
       "1.703181e+10    0.313948\n",
       "1.703181e+10    0.896171\n",
       "1.703181e+10    0.578984\n",
       "1.703181e+10    0.251956\n",
       "1.703181e+10    0.258206\n",
       "Name: total_pct, Length: 153, dtype: float64"
      ]
     },
     "execution_count": 80,
     "metadata": {},
     "output_type": "execute_result"
    }
   ],
   "source": [
    "transactions.groupby('census_tract_geoid')['total_pct'].mean()"
   ]
  },
  {
   "cell_type": "code",
   "execution_count": 81,
   "metadata": {},
   "outputs": [
    {
     "name": "stderr",
     "output_type": "stream",
     "text": [
      "/tmp/ipykernel_698244/2132625190.py:17: UserWarning: Boolean Series key will be reindexed to match DataFrame index.\n",
      "  std_outliers = df.dropna(subset=[group, col])[df.groupby([group, 'class'])[col].apply(is_outlier_groupby, permuts[tup][0], permuts[tup][1])]\n",
      "/tmp/ipykernel_698244/2132625190.py:18: UserWarning: Boolean Series key will be reindexed to match DataFrame index.\n",
      "  no_std_outliers = df.dropna(subset=[group, col])[~df.groupby([group, 'class'])[col].apply(is_outlier_groupby, permuts[tup][0], permuts[tup][1])]\n",
      "/tmp/ipykernel_698244/2132625190.py:17: UserWarning: Boolean Series key will be reindexed to match DataFrame index.\n",
      "  std_outliers = df.dropna(subset=[group, col])[df.groupby([group, 'class'])[col].apply(is_outlier_groupby, permuts[tup][0], permuts[tup][1])]\n",
      "/tmp/ipykernel_698244/2132625190.py:18: UserWarning: Boolean Series key will be reindexed to match DataFrame index.\n",
      "  no_std_outliers = df.dropna(subset=[group, col])[~df.groupby([group, 'class'])[col].apply(is_outlier_groupby, permuts[tup][0], permuts[tup][1])]\n",
      "/tmp/ipykernel_698244/2132625190.py:17: UserWarning: Boolean Series key will be reindexed to match DataFrame index.\n",
      "  std_outliers = df.dropna(subset=[group, col])[df.groupby([group, 'class'])[col].apply(is_outlier_groupby, permuts[tup][0], permuts[tup][1])]\n",
      "/tmp/ipykernel_698244/2132625190.py:18: UserWarning: Boolean Series key will be reindexed to match DataFrame index.\n",
      "  no_std_outliers = df.dropna(subset=[group, col])[~df.groupby([group, 'class'])[col].apply(is_outlier_groupby, permuts[tup][0], permuts[tup][1])]\n",
      "/tmp/ipykernel_698244/2132625190.py:17: UserWarning: Boolean Series key will be reindexed to match DataFrame index.\n",
      "  std_outliers = df.dropna(subset=[group, col])[df.groupby([group, 'class'])[col].apply(is_outlier_groupby, permuts[tup][0], permuts[tup][1])]\n",
      "/tmp/ipykernel_698244/2132625190.py:18: UserWarning: Boolean Series key will be reindexed to match DataFrame index.\n",
      "  no_std_outliers = df.dropna(subset=[group, col])[~df.groupby([group, 'class'])[col].apply(is_outlier_groupby, permuts[tup][0], permuts[tup][1])]\n"
     ]
    },
    {
     "name": "stdout",
     "output_type": "stream",
     "text": [
      "[(287, 0.009423739944179938), (292, 0.009587916598259727), (531, 0.017435560663273682), (545, 0.017895255294697095)]\n"
     ]
    },
    {
     "data": {
      "image/png": "[encoded data removed]",
      "text/plain": [
       "<Figure size 1080x720 with 8 Axes>"
      ]
     },
     "metadata": {
      "needs_background": "light"
     },
     "output_type": "display_data"
    }
   ],
   "source": [
    "town_growth = plot_std(transactions, 'township_code', 'total_pct', std_permutations)"
   ]
  },
  {
   "cell_type": "code",
   "execution_count": 82,
   "metadata": {},
   "outputs": [
    {
     "name": "stderr",
     "output_type": "stream",
     "text": [
      "/tmp/ipykernel_698244/2132625190.py:17: UserWarning: Boolean Series key will be reindexed to match DataFrame index.\n",
      "  std_outliers = df.dropna(subset=[group, col])[df.groupby([group, 'class'])[col].apply(is_outlier_groupby, permuts[tup][0], permuts[tup][1])]\n",
      "/tmp/ipykernel_698244/2132625190.py:18: UserWarning: Boolean Series key will be reindexed to match DataFrame index.\n",
      "  no_std_outliers = df.dropna(subset=[group, col])[~df.groupby([group, 'class'])[col].apply(is_outlier_groupby, permuts[tup][0], permuts[tup][1])]\n",
      "/tmp/ipykernel_698244/2132625190.py:17: UserWarning: Boolean Series key will be reindexed to match DataFrame index.\n",
      "  std_outliers = df.dropna(subset=[group, col])[df.groupby([group, 'class'])[col].apply(is_outlier_groupby, permuts[tup][0], permuts[tup][1])]\n",
      "/tmp/ipykernel_698244/2132625190.py:18: UserWarning: Boolean Series key will be reindexed to match DataFrame index.\n",
      "  no_std_outliers = df.dropna(subset=[group, col])[~df.groupby([group, 'class'])[col].apply(is_outlier_groupby, permuts[tup][0], permuts[tup][1])]\n",
      "/tmp/ipykernel_698244/2132625190.py:17: UserWarning: Boolean Series key will be reindexed to match DataFrame index.\n",
      "  std_outliers = df.dropna(subset=[group, col])[df.groupby([group, 'class'])[col].apply(is_outlier_groupby, permuts[tup][0], permuts[tup][1])]\n",
      "/tmp/ipykernel_698244/2132625190.py:18: UserWarning: Boolean Series key will be reindexed to match DataFrame index.\n",
      "  no_std_outliers = df.dropna(subset=[group, col])[~df.groupby([group, 'class'])[col].apply(is_outlier_groupby, permuts[tup][0], permuts[tup][1])]\n",
      "/tmp/ipykernel_698244/2132625190.py:17: UserWarning: Boolean Series key will be reindexed to match DataFrame index.\n",
      "  std_outliers = df.dropna(subset=[group, col])[df.groupby([group, 'class'])[col].apply(is_outlier_groupby, permuts[tup][0], permuts[tup][1])]\n",
      "/tmp/ipykernel_698244/2132625190.py:18: UserWarning: Boolean Series key will be reindexed to match DataFrame index.\n",
      "  no_std_outliers = df.dropna(subset=[group, col])[~df.groupby([group, 'class'])[col].apply(is_outlier_groupby, permuts[tup][0], permuts[tup][1])]\n"
     ]
    },
    {
     "name": "stdout",
     "output_type": "stream",
     "text": [
      "[(274, 0.09651285663966186), (274, 0.09651285663966186), (277, 0.09756956674885522), (278, 0.09792180345191968)]\n"
     ]
    },
    {
     "data": {
      "image/png": "[encoded data removed]",
      "text/plain": [
       "<Figure size 1080x720 with 8 Axes>"
      ]
     },
     "metadata": {
      "needs_background": "light"
     },
     "output_type": "display_data"
    }
   ],
   "source": [
    "census_growth = plot_std(transactions, 'census_tract_geoid', 'total_pct', std_permutations)"
   ]
  },
  {
   "cell_type": "markdown",
   "metadata": {},
   "source": [
    "## Moving Towards/Away From Mean"
   ]
  },
  {
   "cell_type": "code",
   "execution_count": 84,
   "metadata": {},
   "outputs": [
    {
     "data": {
      "text/plain": [
       "5         0.344408\n",
       "6         0.067116\n",
       "12        0.036627\n",
       "13        0.078825\n",
       "20        0.540073\n",
       "            ...   \n",
       "298740    0.083292\n",
       "298741    0.083292\n",
       "298831    0.043979\n",
       "298842    0.374424\n",
       "298895    0.567863\n",
       "Name: diff_from_class_mean_sale_log10, Length: 64150, dtype: float64"
      ]
     },
     "execution_count": 84,
     "metadata": {},
     "output_type": "execute_result"
    }
   ],
   "source": [
    "dups.diff_from_class_mean_sale_log10"
   ]
  },
  {
   "cell_type": "code",
   "execution_count": 85,
   "metadata": {},
   "outputs": [
    {
     "name": "stderr",
     "output_type": "stream",
     "text": [
      "/tmp/ipykernel_698244/1202430475.py:2: SettingWithCopyWarning: \n",
      "A value is trying to be set on a copy of a slice from a DataFrame.\n",
      "Try using .loc[row_indexer,col_indexer] = value instead\n",
      "\n",
      "See the caveats in the documentation: https://pandas.pydata.org/pandas-docs/stable/user_guide/indexing.html#returning-a-view-versus-a-copy\n",
      "  dups['town_movement'] = dups['diff_from_township_mean_sale_log10'].lt(temp).astype(float) # 0 is moving away, 1 is moving towards\n",
      "/tmp/ipykernel_698244/1202430475.py:6: SettingWithCopyWarning: \n",
      "A value is trying to be set on a copy of a slice from a DataFrame.\n",
      "Try using .loc[row_indexer,col_indexer] = value instead\n",
      "\n",
      "See the caveats in the documentation: https://pandas.pydata.org/pandas-docs/stable/user_guide/indexing.html#returning-a-view-versus-a-copy\n",
      "  dups['class_movement'] = dups['diff_from_class_mean_sale_log10'].lt(temp).astype(float) # 0 is moving away, 1 is moving towards\n"
     ]
    }
   ],
   "source": [
    "temp = dups.sort_values('sale_date').groupby(['pin'])['diff_from_township_mean_sale_log10'].shift()\n",
    "dups['town_movement'] = dups['diff_from_township_mean_sale_log10'].lt(temp).astype(float) # 0 is moving away, 1 is moving towards\n",
    "\n",
    "\n",
    "temp = dups.sort_values('sale_date').groupby(['pin'])['diff_from_class_mean_sale_log10'].shift()\n",
    "dups['class_movement'] = dups['diff_from_class_mean_sale_log10'].lt(temp).astype(float) # 0 is moving away, 1 is moving towards"
   ]
  },
  {
   "cell_type": "code",
   "execution_count": 86,
   "metadata": {},
   "outputs": [
    {
     "data": {
      "text/plain": [
       "0.0    46326\n",
       "1.0    17824\n",
       "Name: town_movement, dtype: int64"
      ]
     },
     "execution_count": 86,
     "metadata": {},
     "output_type": "execute_result"
    }
   ],
   "source": [
    "dups.town_movement.value_counts()"
   ]
  },
  {
   "cell_type": "code",
   "execution_count": 87,
   "metadata": {},
   "outputs": [
    {
     "data": {
      "text/plain": [
       "0.0    45040\n",
       "1.0    19110\n",
       "Name: class_movement, dtype: int64"
      ]
     },
     "execution_count": 87,
     "metadata": {},
     "output_type": "execute_result"
    }
   ],
   "source": [
    "dups.class_movement.value_counts()"
   ]
  },
  {
   "cell_type": "code",
   "execution_count": null,
   "metadata": {},
   "outputs": [],
   "source": []
  }
 ],
 "metadata": {
  "kernelspec": {
   "display_name": "Python 3.10.5 ('assessor')",
   "language": "python",
   "name": "python3"
  },
  "language_info": {
   "codemirror_mode": {
    "name": "ipython",
    "version": 3
   },
   "file_extension": ".py",
   "mimetype": "text/x-python",
   "name": "python",
   "nbconvert_exporter": "python",
   "pygments_lexer": "ipython3",
   "version": "3.10.5"
  },
  "orig_nbformat": 4,
  "vscode": {
   "interpreter": {
    "hash": "50350f6f05d6537db0d3267c2fc80282689776f58a3de8c6b995059eb34bd6dd"
   }
  }
 },
 "nbformat": 4,
 "nbformat_minor": 2
}
